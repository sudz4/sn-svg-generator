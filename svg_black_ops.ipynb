{
 "cells": [
  {
   "cell_type": "code",
   "execution_count": 10,
   "metadata": {},
   "outputs": [],
   "source": [
    "import matplotlib.pyplot as plt\n",
    "from matplotlib import font_manager as fm\n",
    "\n",
    "# IMPORTANT TO DISPLAY SVG IN JUPYTER NOTEBOOK (development)\n",
    "from IPython.display import SVG"
   ]
  },
  {
   "cell_type": "code",
   "execution_count": 16,
   "metadata": {},
   "outputs": [],
   "source": [
    "\"\"\" \n",
    "ServiceNow UI16 logo text logo generation.\n",
    "\n",
    "main use case: generate a logo for a ServiceNow PDI instance,\n",
    "labelling and organization etc.\n",
    "\"\"\"\n",
    "\n",
    "text = \"ServiceLater\"\n",
    "color = \"#62d84e\"  # ServiceNow green or another neon-like color\n",
    "# color = '#ffffff'  # white\n",
    "font_path = \"google_fonts/BlackOpsOne-Regular.ttf\"  # font path\n",
    "font_properties = fm.FontProperties(fname=font_path, size=24)\n",
    "\n",
    "# IMPORTANT -> get appropriate ServiceNow UI16 logo sizing correct\n",
    "aspect_ratio = 164 / 32\n",
    "fig_width = 2  # arbitrary base size in inches\n",
    "fig_height = fig_width / aspect_ratio\n",
    "\n",
    "# Create the figure and axis with the adjusted size\n",
    "fig, ax = plt.subplots(figsize=(fig_width, fig_height), dpi=80)\n",
    "ax.text(0.5, 0.5, text, color=color, fontproperties=font_properties, ha='center', va='center')\n",
    "ax.set_facecolor('none')\n",
    "ax.axis('off')\n",
    "\n",
    "# save the svg \n",
    "logo_file_path = \"vr_demo_instance_logo_4.svg\"\n",
    "plt.savefig(logo_file_path, format='svg', transparent=True, bbox_inches='tight', pad_inches=0)\n",
    "plt.close()\n"
   ]
  },
  {
   "cell_type": "code",
   "execution_count": 17,
   "metadata": {},
   "outputs": [
    {
     "data": {
      "image/svg+xml": [
       "<svg xmlns:xlink=\"http://www.w3.org/1999/xlink\" xmlns=\"http://www.w3.org/2000/svg\" width=\"172.18125pt\" height=\"21.635122pt\" viewBox=\"0 0 172.18125 21.635122\" version=\"1.1\">\n",
       " <metadata>\n",
       "  <rdf:RDF xmlns:dc=\"http://purl.org/dc/elements/1.1/\" xmlns:cc=\"http://creativecommons.org/ns#\" xmlns:rdf=\"http://www.w3.org/1999/02/22-rdf-syntax-ns#\">\n",
       "   <cc:Work>\n",
       "    <dc:type rdf:resource=\"http://purl.org/dc/dcmitype/StillImage\"/>\n",
       "    <dc:date>2024-05-27T20:42:13.128079</dc:date>\n",
       "    <dc:format>image/svg+xml</dc:format>\n",
       "    <dc:creator>\n",
       "     <cc:Agent>\n",
       "      <dc:title>Matplotlib v3.8.2, https://matplotlib.org/</dc:title>\n",
       "     </cc:Agent>\n",
       "    </dc:creator>\n",
       "   </cc:Work>\n",
       "  </rdf:RDF>\n",
       " </metadata>\n",
       " <defs>\n",
       "  <style type=\"text/css\">*{stroke-linejoin: round; stroke-linecap: butt}</style>\n",
       " </defs>\n",
       " <g id=\"figure_1\">\n",
       "  <g id=\"patch_1\">\n",
       "   <path d=\"M 0 21.635122  L 172.18125 21.635122  L 172.18125 0  L 0 0  L 0 21.635122  z \" style=\"fill: none\"/>\n",
       "  </g>\n",
       "  <g id=\"axes_1\">\n",
       "   <g id=\"text_1\">\n",
       "    <!-- ServiceLater -->\n",
       "    <g style=\"fill: #62d84e\" transform=\"translate(0 17.338811) scale(0.24 -0.24)\">\n",
       "     <defs>\n",
       "      <path id=\"BlackOpsOne-Regular-53\" d=\"M 2928 0  L 2928 1553  L 1134 1553  L 303 2384  L 303 3319  L 1134 4147  L 1603 4147  L 1603 2675  L 3509 2675  L 4313 1844  L 4313 828  L 3484 0  L 2928 0  z M 2928 2984  L 2928 3400  L 1822 3400  L 1822 4147  L 3481 4147  L 4200 3425  L 4200 2984  L 2928 2984  z M 1000 0  L 303 828  L 303 1244  L 1684 1244  L 1684 750  L 2709 750  L 2709 0  L 1000 0  z \" transform=\"scale(0.015625)\"/>\n",
       "      <path id=\"BlackOpsOne-Regular-65\" d=\"M 1125 0  L 297 828  L 297 2491  L 1125 3319  L 1678 3319  L 1678 0  L 1125 0  z M 1897 1331  L 1897 1909  L 2625 1909  L 2625 2491  L 1897 2491  L 1897 3319  L 3069 3319  L 3897 2491  L 3897 1331  L 1897 1331  z M 1897 0  L 1897 775  L 3753 775  L 3753 416  L 3341 0  L 1897 0  z \" transform=\"scale(0.015625)\"/>\n",
       "      <path id=\"BlackOpsOne-Regular-72\" d=\"M 325 0  L 325 3319  L 1706 3319  L 1706 0  L 325 0  z M 2516 1684  L 2516 2491  L 1928 2491  L 1928 2853  L 2391 3319  L 3228 3319  L 3900 2544  L 3900 1684  L 2516 1684  z \" transform=\"scale(0.015625)\"/>\n",
       "      <path id=\"BlackOpsOne-Regular-76\" d=\"M 1197 0  L -44 3319  L 1328 3319  L 2509 0  L 1197 0  z M 2650 184  L 2031 1941  L 2478 3319  L 3769 3319  L 2650 184  z \" transform=\"scale(0.015625)\"/>\n",
       "      <path id=\"BlackOpsOne-Regular-69\" d=\"M 328 3731  L 328 4613  L 1713 4613  L 1713 3731  L 328 3731  z M 328 0  L 328 3319  L 1713 3319  L 1713 0  L 328 0  z \" transform=\"scale(0.015625)\"/>\n",
       "      <path id=\"BlackOpsOne-Regular-63\" d=\"M 1125 0  L 297 828  L 297 2491  L 1125 3319  L 1678 3319  L 1678 0  L 1125 0  z M 2509 1994  L 2509 2491  L 1897 2491  L 1897 3319  L 3063 3319  L 3891 2491  L 3891 1994  L 2509 1994  z M 1897 0  L 1897 775  L 2509 775  L 2509 1191  L 3891 1191  L 3891 828  L 3063 0  L 1897 0  z \" transform=\"scale(0.015625)\"/>\n",
       "      <path id=\"BlackOpsOne-Regular-4c\" d=\"M 366 0  L 366 4147  L 1747 4147  L 1747 0  L 366 0  z M 1966 0  L 1966 828  L 2650 828  L 2650 1353  L 3903 1353  L 3903 0  L 1966 0  z \" transform=\"scale(0.015625)\"/>\n",
       "      <path id=\"BlackOpsOne-Regular-61\" d=\"M 2513 0  L 2513 2491  L 547 2491  L 547 2903  L 963 3319  L 3034 3319  L 3863 2491  L 3863 0  L 2513 0  z M 825 0  L 269 547  L 269 1378  L 825 1931  L 2294 1931  L 2294 1356  L 1581 1356  L 1581 775  L 2294 775  L 2294 409  L 1881 0  L 825 0  z \" transform=\"scale(0.015625)\"/>\n",
       "      <path id=\"BlackOpsOne-Regular-74\" d=\"M 1225 0  L 394 828  L 394 2491  L 119 2491  L 119 3319  L 394 3319  L 394 3678  L 1775 4147  L 1775 828  L 2688 828  L 2688 0  L 1225 0  z M 1994 2491  L 1994 3319  L 2738 3319  L 2738 2491  L 1994 2491  z \" transform=\"scale(0.015625)\"/>\n",
       "     </defs>\n",
       "     <use xlink:href=\"#BlackOpsOne-Regular-53\"/>\n",
       "     <use xlink:href=\"#BlackOpsOne-Regular-65\" x=\"72.119141\"/>\n",
       "     <use xlink:href=\"#BlackOpsOne-Regular-72\" x=\"137.109375\"/>\n",
       "     <use xlink:href=\"#BlackOpsOne-Regular-76\" x=\"198.632812\"/>\n",
       "     <use xlink:href=\"#BlackOpsOne-Regular-69\" x=\"256.835938\"/>\n",
       "     <use xlink:href=\"#BlackOpsOne-Regular-63\" x=\"288.720703\"/>\n",
       "     <use xlink:href=\"#BlackOpsOne-Regular-65\" x=\"353.320312\"/>\n",
       "     <use xlink:href=\"#BlackOpsOne-Regular-4c\" x=\"418.310547\"/>\n",
       "     <use xlink:href=\"#BlackOpsOne-Regular-61\" x=\"480.46875\"/>\n",
       "     <use xlink:href=\"#BlackOpsOne-Regular-74\" x=\"545.458984\"/>\n",
       "     <use xlink:href=\"#BlackOpsOne-Regular-65\" x=\"590.917969\"/>\n",
       "     <use xlink:href=\"#BlackOpsOne-Regular-72\" x=\"655.908203\"/>\n",
       "    </g>\n",
       "   </g>\n",
       "  </g>\n",
       " </g>\n",
       "</svg>"
      ],
      "text/plain": [
       "<IPython.core.display.SVG object>"
      ]
     },
     "execution_count": 17,
     "metadata": {},
     "output_type": "execute_result"
    }
   ],
   "source": [
    "# look at the image and adjust as needed before adding to servicenow instance\n",
    "SVG(filename=logo_file_path)"
   ]
  }
 ],
 "metadata": {
  "kernelspec": {
   "display_name": "svg_venv",
   "language": "python",
   "name": "python3"
  },
  "language_info": {
   "codemirror_mode": {
    "name": "ipython",
    "version": 3
   },
   "file_extension": ".py",
   "mimetype": "text/x-python",
   "name": "python",
   "nbconvert_exporter": "python",
   "pygments_lexer": "ipython3",
   "version": "3.11.1"
  }
 },
 "nbformat": 4,
 "nbformat_minor": 2
}
