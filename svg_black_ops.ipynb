{
 "cells": [
  {
   "cell_type": "code",
   "execution_count": 1,
   "metadata": {},
   "outputs": [],
   "source": [
    "import matplotlib.pyplot as plt\n",
    "from matplotlib import font_manager as fm\n",
    "\n",
    "# IMPORTANT TO DISPLAY SVG IN JUPYTER NOTEBOOK (development)\n",
    "from IPython.display import SVG"
   ]
  },
  {
   "cell_type": "code",
   "execution_count": 2,
   "metadata": {},
   "outputs": [],
   "source": [
    "\"\"\" \n",
    "ServiceNow UI16 logo text logo generation.\n",
    "\n",
    "main use case: generate a logo for a ServiceNow PDI instance,\n",
    "labelling and organization etc.\n",
    "\"\"\"\n",
    "\n",
    "text = \"Ocean Beach\"\n",
    "color = \"#62d84e\"  # ServiceNow green or another neon-like color\n",
    "font_path = \"google_fonts/BlackOpsOne-Regular.ttf\"  # font path\n",
    "font_properties = fm.FontProperties(fname=font_path, size=24)\n",
    "\n",
    "# IMPORTANT -> get appropriate ServiceNow UI16 logo sizing correct\n",
    "aspect_ratio = 164 / 32\n",
    "fig_width = 2  # arbitrary base size in inches\n",
    "fig_height = fig_width / aspect_ratio\n",
    "\n",
    "# Create the figure and axis with the adjusted size\n",
    "fig, ax = plt.subplots(figsize=(fig_width, fig_height), dpi=80)\n",
    "ax.text(0.5, 0.5, text, color=color, fontproperties=font_properties, ha='center', va='center')\n",
    "ax.set_facecolor('none')\n",
    "ax.axis('off')\n",
    "\n",
    "# save the svg \n",
    "logo_file_path = \"ocean_beach_logo.svg\"\n",
    "plt.savefig(logo_file_path, format='svg', transparent=True, bbox_inches='tight', pad_inches=0)\n",
    "plt.close()\n"
   ]
  },
  {
   "cell_type": "code",
   "execution_count": 3,
   "metadata": {},
   "outputs": [
    {
     "data": {
      "image/svg+xml": [
       "<svg xmlns:xlink=\"http://www.w3.org/1999/xlink\" xmlns=\"http://www.w3.org/2000/svg\" width=\"166.035pt\" height=\"21.635122pt\" viewBox=\"0 0 166.035 21.635122\" version=\"1.1\">\n",
       " <metadata>\n",
       "  <rdf:RDF xmlns:dc=\"http://purl.org/dc/elements/1.1/\" xmlns:cc=\"http://creativecommons.org/ns#\" xmlns:rdf=\"http://www.w3.org/1999/02/22-rdf-syntax-ns#\">\n",
       "   <cc:Work>\n",
       "    <dc:type rdf:resource=\"http://purl.org/dc/dcmitype/StillImage\"/>\n",
       "    <dc:date>2023-11-30T07:22:43.117269</dc:date>\n",
       "    <dc:format>image/svg+xml</dc:format>\n",
       "    <dc:creator>\n",
       "     <cc:Agent>\n",
       "      <dc:title>Matplotlib v3.7.3, https://matplotlib.org/</dc:title>\n",
       "     </cc:Agent>\n",
       "    </dc:creator>\n",
       "   </cc:Work>\n",
       "  </rdf:RDF>\n",
       " </metadata>\n",
       " <defs>\n",
       "  <style type=\"text/css\">*{stroke-linejoin: round; stroke-linecap: butt}</style>\n",
       " </defs>\n",
       " <g id=\"figure_1\">\n",
       "  <g id=\"patch_1\">\n",
       "   <path d=\"M 0 21.635122  L 166.035 21.635122  L 166.035 0  L 0 0  L 0 21.635122  z \" style=\"fill: none\"/>\n",
       "  </g>\n",
       "  <g id=\"axes_1\">\n",
       "   <g id=\"text_1\">\n",
       "    <!-- Ocean Beach -->\n",
       "    <g style=\"fill: #62d84e\" transform=\"translate(0 17.338811) scale(0.24 -0.24)\">\n",
       "     <defs>\n",
       "      <path id=\"BlackOpsOne-Regular-4f\" d=\"M 2391 0  L 2391 844  L 2919 844  L 2919 3306  L 2391 3306  L 2391 4147  L 3463 4147  L 4300 3319  L 4300 828  L 3463 0  L 2391 0  z M 1109 0  L 269 828  L 269 3319  L 1109 4147  L 2172 4147  L 2172 3306  L 1653 3306  L 1653 844  L 2172 844  L 2172 0  L 1109 0  z \" transform=\"scale(0.015625)\"/>\n",
       "      <path id=\"BlackOpsOne-Regular-63\" d=\"M 1125 0  L 297 828  L 297 2491  L 1125 3319  L 1678 3319  L 1678 0  L 1125 0  z M 2509 1994  L 2509 2491  L 1897 2491  L 1897 3319  L 3063 3319  L 3891 2491  L 3891 1994  L 2509 1994  z M 1897 0  L 1897 775  L 2509 775  L 2509 1191  L 3891 1191  L 3891 828  L 3063 0  L 1897 0  z \" transform=\"scale(0.015625)\"/>\n",
       "      <path id=\"BlackOpsOne-Regular-65\" d=\"M 1125 0  L 297 828  L 297 2491  L 1125 3319  L 1678 3319  L 1678 0  L 1125 0  z M 1897 1331  L 1897 1909  L 2625 1909  L 2625 2491  L 1897 2491  L 1897 3319  L 3069 3319  L 3897 2491  L 3897 1331  L 1897 1331  z M 1897 0  L 1897 775  L 3753 775  L 3753 416  L 3341 0  L 1897 0  z \" transform=\"scale(0.015625)\"/>\n",
       "      <path id=\"BlackOpsOne-Regular-61\" d=\"M 2513 0  L 2513 2491  L 547 2491  L 547 2903  L 963 3319  L 3034 3319  L 3863 2491  L 3863 0  L 2513 0  z M 825 0  L 269 547  L 269 1378  L 825 1931  L 2294 1931  L 2294 1356  L 1581 1356  L 1581 775  L 2294 775  L 2294 409  L 1881 0  L 825 0  z \" transform=\"scale(0.015625)\"/>\n",
       "      <path id=\"BlackOpsOne-Regular-6e\" d=\"M 2538 0  L 2538 2491  L 1944 2491  L 1944 2853  L 2406 3319  L 3175 3319  L 3922 2572  L 3922 0  L 2538 0  z M 325 0  L 325 3319  L 1719 3319  L 1719 0  L 325 0  z \" transform=\"scale(0.015625)\"/>\n",
       "      <path id=\"BlackOpsOne-Regular-20\" transform=\"scale(0.015625)\"/>\n",
       "      <path id=\"BlackOpsOne-Regular-42\" d=\"M 1966 0  L 1966 828  L 2991 828  L 2991 1713  L 1966 1713  L 1966 2434  L 2991 2434  L 2991 3319  L 1966 3319  L 1966 4147  L 3569 4147  L 4400 3319  L 4400 2475  L 3984 2059  L 4400 1644  L 4400 828  L 3569 0  L 1966 0  z M 366 0  L 366 4147  L 1747 4147  L 1747 0  L 366 0  z \" transform=\"scale(0.015625)\"/>\n",
       "      <path id=\"BlackOpsOne-Regular-68\" d=\"M 325 0  L 325 4584  L 1706 4584  L 1706 0  L 325 0  z M 2534 0  L 2534 2491  L 1925 2491  L 1925 2909  L 2331 3319  L 3088 3319  L 3919 2491  L 3919 0  L 2534 0  z \" transform=\"scale(0.015625)\"/>\n",
       "     </defs>\n",
       "     <use xlink:href=\"#BlackOpsOne-Regular-4f\"/>\n",
       "     <use xlink:href=\"#BlackOpsOne-Regular-63\" x=\"71.435547\"/>\n",
       "     <use xlink:href=\"#BlackOpsOne-Regular-65\" x=\"136.035156\"/>\n",
       "     <use xlink:href=\"#BlackOpsOne-Regular-61\" x=\"201.025391\"/>\n",
       "     <use xlink:href=\"#BlackOpsOne-Regular-6e\" x=\"266.015625\"/>\n",
       "     <use xlink:href=\"#BlackOpsOne-Regular-20\" x=\"332.226562\"/>\n",
       "     <use xlink:href=\"#BlackOpsOne-Regular-42\" x=\"358.105469\"/>\n",
       "     <use xlink:href=\"#BlackOpsOne-Regular-65\" x=\"431.103516\"/>\n",
       "     <use xlink:href=\"#BlackOpsOne-Regular-61\" x=\"496.09375\"/>\n",
       "     <use xlink:href=\"#BlackOpsOne-Regular-63\" x=\"561.083984\"/>\n",
       "     <use xlink:href=\"#BlackOpsOne-Regular-68\" x=\"625.683594\"/>\n",
       "    </g>\n",
       "   </g>\n",
       "  </g>\n",
       " </g>\n",
       "</svg>"
      ],
      "text/plain": [
       "<IPython.core.display.SVG object>"
      ]
     },
     "execution_count": 3,
     "metadata": {},
     "output_type": "execute_result"
    }
   ],
   "source": [
    "# look at the image and adjust as needed before adding to servicenow instance\n",
    "SVG(filename=logo_file_path)"
   ]
  }
 ],
 "metadata": {
  "kernelspec": {
   "display_name": "svg_venv",
   "language": "python",
   "name": "python3"
  },
  "language_info": {
   "codemirror_mode": {
    "name": "ipython",
    "version": 3
   },
   "file_extension": ".py",
   "mimetype": "text/x-python",
   "name": "python",
   "nbconvert_exporter": "python",
   "pygments_lexer": "ipython3",
   "version": "3.11.1"
  }
 },
 "nbformat": 4,
 "nbformat_minor": 2
}
