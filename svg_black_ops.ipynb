{
 "cells": [
  {
   "cell_type": "code",
   "execution_count": 2,
   "metadata": {},
   "outputs": [],
   "source": [
    "import matplotlib.pyplot as plt\n",
    "from matplotlib import font_manager as fm\n",
    "\n",
    "# IMPORTANT TO DISPLAY SVG IN JUPYTER NOTEBOOK (development)\n",
    "from IPython.display import SVG"
   ]
  },
  {
   "cell_type": "code",
   "execution_count": 3,
   "metadata": {},
   "outputs": [],
   "source": [
    "\"\"\" \n",
    "ServiceNow UI16 logo text logo generation.\n",
    "\n",
    "main use case: generate a logo for a ServiceNow PDI instance,\n",
    "labelling and organization etc.\n",
    "\"\"\"\n",
    "\n",
    "text = \"Go Hard, Go Alone, Go Without\"\n",
    "color = \"#62d84e\"  # ServiceNow green or another neon-like color\n",
    "# color = '#ffffff'  # white\n",
    "font_path = \"google_fonts/BlackOpsOne-Regular.ttf\"  # font path\n",
    "font_properties = fm.FontProperties(fname=font_path, size=24)\n",
    "\n",
    "# IMPORTANT -> get appropriate ServiceNow UI16 logo sizing correct\n",
    "aspect_ratio = 164 / 32\n",
    "fig_width = 2  # arbitrary base size in inches\n",
    "fig_height = fig_width / aspect_ratio\n",
    "\n",
    "# Create the figure and axis with the adjusted size\n",
    "fig, ax = plt.subplots(figsize=(fig_width, fig_height), dpi=80)\n",
    "ax.text(0.5, 0.5, text, color=color, fontproperties=font_properties, ha='center', va='center')\n",
    "ax.set_facecolor('none')\n",
    "ax.axis('off')\n",
    "\n",
    "# save the svg \n",
    "logo_file_path = \"rolline_v1.svg\"\n",
    "plt.savefig(logo_file_path, format='svg', transparent=True, bbox_inches='tight', pad_inches=0)\n",
    "plt.close()\n"
   ]
  },
  {
   "cell_type": "code",
   "execution_count": 4,
   "metadata": {},
   "outputs": [
    {
     "data": {
      "image/svg+xml": [
       "<svg xmlns:xlink=\"http://www.w3.org/1999/xlink\" xmlns=\"http://www.w3.org/2000/svg\" width=\"387.69375pt\" height=\"21.635122pt\" viewBox=\"0 0 387.69375 21.635122\" version=\"1.1\">\n",
       " <metadata>\n",
       "  <rdf:RDF xmlns:dc=\"http://purl.org/dc/elements/1.1/\" xmlns:cc=\"http://creativecommons.org/ns#\" xmlns:rdf=\"http://www.w3.org/1999/02/22-rdf-syntax-ns#\">\n",
       "   <cc:Work>\n",
       "    <dc:type rdf:resource=\"http://purl.org/dc/dcmitype/StillImage\"/>\n",
       "    <dc:date>2024-05-28T21:33:45.259460</dc:date>\n",
       "    <dc:format>image/svg+xml</dc:format>\n",
       "    <dc:creator>\n",
       "     <cc:Agent>\n",
       "      <dc:title>Matplotlib v3.8.2, https://matplotlib.org/</dc:title>\n",
       "     </cc:Agent>\n",
       "    </dc:creator>\n",
       "   </cc:Work>\n",
       "  </rdf:RDF>\n",
       " </metadata>\n",
       " <defs>\n",
       "  <style type=\"text/css\">*{stroke-linejoin: round; stroke-linecap: butt}</style>\n",
       " </defs>\n",
       " <g id=\"figure_1\">\n",
       "  <g id=\"patch_1\">\n",
       "   <path d=\"M -0 21.635122  L 387.69375 21.635122  L 387.69375 0  L -0 0  L -0 21.635122  z \" style=\"fill: none\"/>\n",
       "  </g>\n",
       "  <g id=\"axes_1\">\n",
       "   <g id=\"text_1\">\n",
       "    <!-- Go Hard, Go Alone, Go Without -->\n",
       "    <g style=\"fill: #62d84e\" transform=\"translate(0 17.338811) scale(0.24 -0.24)\">\n",
       "     <defs>\n",
       "      <path id=\"BlackOpsOne-Regular-47\" d=\"M 1188 0  L 359 828  L 359 3319  L 1188 4147  L 1741 4147  L 1741 828  L 2925 828  L 2925 0  L 1188 0  z M 2988 2903  L 2988 3319  L 1959 3319  L 1959 4147  L 3644 4147  L 4369 3319  L 4369 2903  L 2988 2903  z M 3144 0  L 3144 1478  L 2472 1478  L 2472 2300  L 4369 2300  L 4369 0  L 3144 0  z \" transform=\"scale(0.015625)\"/>\n",
       "      <path id=\"BlackOpsOne-Regular-6f\" d=\"M 1125 0  L 297 828  L 297 2491  L 1125 3319  L 2053 3319  L 2053 2491  L 1694 2491  L 1694 775  L 2053 775  L 2053 0  L 1125 0  z M 2272 0  L 2272 775  L 2616 775  L 2616 2491  L 2272 2491  L 2272 3319  L 3197 3319  L 4025 2491  L 4025 828  L 3197 0  L 2272 0  z \" transform=\"scale(0.015625)\"/>\n",
       "      <path id=\"BlackOpsOne-Regular-20\" transform=\"scale(0.015625)\"/>\n",
       "      <path id=\"BlackOpsOne-Regular-48\" d=\"M 2991 0  L 2991 1684  L 1966 1684  L 1966 2516  L 2981 2516  L 2981 4147  L 4375 4147  L 4375 0  L 2991 0  z M 366 0  L 366 4147  L 1747 4147  L 1747 0  L 366 0  z \" transform=\"scale(0.015625)\"/>\n",
       "      <path id=\"BlackOpsOne-Regular-61\" d=\"M 2513 0  L 2513 2491  L 547 2491  L 547 2903  L 963 3319  L 3034 3319  L 3863 2491  L 3863 0  L 2513 0  z M 825 0  L 269 547  L 269 1378  L 825 1931  L 2294 1931  L 2294 1356  L 1581 1356  L 1581 775  L 2294 775  L 2294 409  L 1881 0  L 825 0  z \" transform=\"scale(0.015625)\"/>\n",
       "      <path id=\"BlackOpsOne-Regular-72\" d=\"M 325 0  L 325 3319  L 1706 3319  L 1706 0  L 325 0  z M 2516 1684  L 2516 2491  L 1928 2491  L 1928 2853  L 2391 3319  L 3228 3319  L 3900 2544  L 3900 1684  L 2516 1684  z \" transform=\"scale(0.015625)\"/>\n",
       "      <path id=\"BlackOpsOne-Regular-64\" d=\"M 2563 0  L 2563 4584  L 3944 4584  L 3944 0  L 2563 0  z M 1044 0  L 297 747  L 297 2572  L 1044 3319  L 2344 3319  L 2344 2491  L 1678 2491  L 1678 775  L 2344 775  L 2344 328  L 2016 0  L 1044 0  z \" transform=\"scale(0.015625)\"/>\n",
       "      <path id=\"BlackOpsOne-Regular-2c\" d=\"M 459 -828  L 844 0  L 459 0  L 459 966  L 1841 966  L 1841 0  L 1288 -828  L 459 -828  z \" transform=\"scale(0.015625)\"/>\n",
       "      <path id=\"BlackOpsOne-Regular-41\" d=\"M 3263 0  L 3088 453  L 1731 453  L 2019 1275  L 2769 1275  L 1659 4147  L 3006 4147  L 4659 0  L 3263 0  z M 28 0  L 1509 3959  L 2122 2313  L 1363 0  L 28 0  z \" transform=\"scale(0.015625)\"/>\n",
       "      <path id=\"BlackOpsOne-Regular-6c\" d=\"M 1100 0  L 325 775  L 325 4584  L 1706 4584  L 1706 828  L 2325 828  L 2325 0  L 1100 0  z \" transform=\"scale(0.015625)\"/>\n",
       "      <path id=\"BlackOpsOne-Regular-6e\" d=\"M 2538 0  L 2538 2491  L 1944 2491  L 1944 2853  L 2406 3319  L 3175 3319  L 3922 2572  L 3922 0  L 2538 0  z M 325 0  L 325 3319  L 1719 3319  L 1719 0  L 325 0  z \" transform=\"scale(0.015625)\"/>\n",
       "      <path id=\"BlackOpsOne-Regular-65\" d=\"M 1125 0  L 297 828  L 297 2491  L 1125 3319  L 1678 3319  L 1678 0  L 1125 0  z M 1897 1331  L 1897 1909  L 2625 1909  L 2625 2491  L 1897 2491  L 1897 3319  L 3069 3319  L 3897 2491  L 3897 1331  L 1897 1331  z M 1897 0  L 1897 775  L 3753 775  L 3753 416  L 3341 0  L 1897 0  z \" transform=\"scale(0.015625)\"/>\n",
       "      <path id=\"BlackOpsOne-Regular-57\" d=\"M 1159 0  L -81 4147  L 1294 4147  L 1903 1869  L 2319 3609  L 2859 1641  L 2413 0  L 1159 0  z M 3516 0  L 2378 4147  L 3772 4147  L 4834 0  L 3516 0  z M 4981 216  L 4419 2425  L 4847 4147  L 6106 4147  L 4981 216  z \" transform=\"scale(0.015625)\"/>\n",
       "      <path id=\"BlackOpsOne-Regular-69\" d=\"M 328 3731  L 328 4613  L 1713 4613  L 1713 3731  L 328 3731  z M 328 0  L 328 3319  L 1713 3319  L 1713 0  L 328 0  z \" transform=\"scale(0.015625)\"/>\n",
       "      <path id=\"BlackOpsOne-Regular-74\" d=\"M 1225 0  L 394 828  L 394 2491  L 119 2491  L 119 3319  L 394 3319  L 394 3678  L 1775 4147  L 1775 828  L 2688 828  L 2688 0  L 1225 0  z M 1994 2491  L 1994 3319  L 2738 3319  L 2738 2491  L 1994 2491  z \" transform=\"scale(0.015625)\"/>\n",
       "      <path id=\"BlackOpsOne-Regular-68\" d=\"M 325 0  L 325 4584  L 1706 4584  L 1706 0  L 325 0  z M 2534 0  L 2534 2491  L 1925 2491  L 1925 2909  L 2331 3319  L 3088 3319  L 3919 2491  L 3919 0  L 2534 0  z \" transform=\"scale(0.015625)\"/>\n",
       "      <path id=\"BlackOpsOne-Regular-75\" d=\"M 1128 0  L 297 828  L 297 3319  L 1678 3319  L 1678 828  L 2294 828  L 2294 416  L 1894 0  L 1128 0  z M 2513 0  L 2513 3319  L 3894 3319  L 3894 0  L 2513 0  z \" transform=\"scale(0.015625)\"/>\n",
       "     </defs>\n",
       "     <use xlink:href=\"#BlackOpsOne-Regular-47\"/>\n",
       "     <use xlink:href=\"#BlackOpsOne-Regular-6f\" x=\"72.998047\"/>\n",
       "     <use xlink:href=\"#BlackOpsOne-Regular-20\" x=\"140.527344\"/>\n",
       "     <use xlink:href=\"#BlackOpsOne-Regular-48\" x=\"166.40625\"/>\n",
       "     <use xlink:href=\"#BlackOpsOne-Regular-61\" x=\"240.429688\"/>\n",
       "     <use xlink:href=\"#BlackOpsOne-Regular-72\" x=\"305.419922\"/>\n",
       "     <use xlink:href=\"#BlackOpsOne-Regular-64\" x=\"366.943359\"/>\n",
       "     <use xlink:href=\"#BlackOpsOne-Regular-2c\" x=\"433.642578\"/>\n",
       "     <use xlink:href=\"#BlackOpsOne-Regular-20\" x=\"469.580078\"/>\n",
       "     <use xlink:href=\"#BlackOpsOne-Regular-47\" x=\"495.458984\"/>\n",
       "     <use xlink:href=\"#BlackOpsOne-Regular-6f\" x=\"568.457031\"/>\n",
       "     <use xlink:href=\"#BlackOpsOne-Regular-20\" x=\"635.986328\"/>\n",
       "     <use xlink:href=\"#BlackOpsOne-Regular-41\" x=\"661.865234\"/>\n",
       "     <use xlink:href=\"#BlackOpsOne-Regular-6c\" x=\"735.107422\"/>\n",
       "     <use xlink:href=\"#BlackOpsOne-Regular-6f\" x=\"771.875\"/>\n",
       "     <use xlink:href=\"#BlackOpsOne-Regular-6e\" x=\"839.404297\"/>\n",
       "     <use xlink:href=\"#BlackOpsOne-Regular-65\" x=\"905.615234\"/>\n",
       "     <use xlink:href=\"#BlackOpsOne-Regular-2c\" x=\"970.605469\"/>\n",
       "     <use xlink:href=\"#BlackOpsOne-Regular-20\" x=\"1006.542969\"/>\n",
       "     <use xlink:href=\"#BlackOpsOne-Regular-47\" x=\"1032.421875\"/>\n",
       "     <use xlink:href=\"#BlackOpsOne-Regular-6f\" x=\"1105.419922\"/>\n",
       "     <use xlink:href=\"#BlackOpsOne-Regular-20\" x=\"1172.949219\"/>\n",
       "     <use xlink:href=\"#BlackOpsOne-Regular-57\" x=\"1198.828125\"/>\n",
       "     <use xlink:href=\"#BlackOpsOne-Regular-69\" x=\"1292.96875\"/>\n",
       "     <use xlink:href=\"#BlackOpsOne-Regular-74\" x=\"1324.853516\"/>\n",
       "     <use xlink:href=\"#BlackOpsOne-Regular-68\" x=\"1370.3125\"/>\n",
       "     <use xlink:href=\"#BlackOpsOne-Regular-6f\" x=\"1436.474609\"/>\n",
       "     <use xlink:href=\"#BlackOpsOne-Regular-75\" x=\"1504.003906\"/>\n",
       "     <use xlink:href=\"#BlackOpsOne-Regular-74\" x=\"1569.921875\"/>\n",
       "    </g>\n",
       "   </g>\n",
       "  </g>\n",
       " </g>\n",
       "</svg>"
      ],
      "text/plain": [
       "<IPython.core.display.SVG object>"
      ]
     },
     "execution_count": 4,
     "metadata": {},
     "output_type": "execute_result"
    }
   ],
   "source": [
    "# look at the image and adjust as needed before adding to servicenow instance\n",
    "SVG(filename=logo_file_path)"
   ]
  }
 ],
 "metadata": {
  "kernelspec": {
   "display_name": "svg_venv",
   "language": "python",
   "name": "python3"
  },
  "language_info": {
   "codemirror_mode": {
    "name": "ipython",
    "version": 3
   },
   "file_extension": ".py",
   "mimetype": "text/x-python",
   "name": "python",
   "nbconvert_exporter": "python",
   "pygments_lexer": "ipython3",
   "version": "3.11.1"
  }
 },
 "nbformat": 4,
 "nbformat_minor": 2
}
