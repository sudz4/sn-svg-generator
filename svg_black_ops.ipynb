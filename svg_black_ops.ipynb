{
 "cells": [
  {
   "cell_type": "code",
   "execution_count": 3,
   "metadata": {},
   "outputs": [],
   "source": [
    "import matplotlib.pyplot as plt\n",
    "from matplotlib import font_manager as fm\n",
    "\n",
    "# IMPORTANT TO DISPLAY SVG IN JUPYTER NOTEBOOK (development)\n",
    "from IPython.display import SVG"
   ]
  },
  {
   "cell_type": "code",
   "execution_count": 6,
   "metadata": {},
   "outputs": [],
   "source": [
    "\"\"\" \n",
    "ServiceNow UI16 logo text logo generation.\n",
    "\n",
    "main use case: generate a logo for a ServiceNow PDI instance,\n",
    "labelling and organization etc.\n",
    "\"\"\"\n",
    "\n",
    "text = \"Ocean Beach\"\n",
    "color = \"#62d84e\"  # ServiceNow green or another neon-like color\n",
    "font_path = \"google_fonts/BlackOpsOne-Regular.ttf\"  # font path\n",
    "font_properties = fm.FontProperties(fname=font_path, size=24)\n",
    "\n",
    "# IMPORTANT -> get appropriate ServiceNow UI16 logo sizing correct\n",
    "aspect_ratio = 164 / 32\n",
    "fig_width = 2  # arbitrary base size in inches\n",
    "fig_height = fig_width / aspect_ratio\n",
    "\n",
    "# Create the figure and axis with the adjusted size\n",
    "fig, ax = plt.subplots(figsize=(fig_width, fig_height), dpi=80)\n",
    "ax.text(0.5, 0.5, text, color=color, fontproperties=font_properties, ha='center', va='center')\n",
    "ax.set_facecolor('none')\n",
    "ax.axis('off')\n",
    "\n",
    "# save the svg \n",
    "logo_file_path = \"ocean_beach_logo.svg\"\n",
    "plt.savefig(logo_file_path, format='svg', transparent=True, bbox_inches='tight', pad_inches=0)\n",
    "plt.close()\n"
   ]
  },
  {
   "cell_type": "code",
   "execution_count": 5,
   "metadata": {},
   "outputs": [
    {
     "data": {
      "image/svg+xml": [
       "<svg xmlns:xlink=\"http://www.w3.org/1999/xlink\" xmlns=\"http://www.w3.org/2000/svg\" width=\"219.59625pt\" height=\"21.66pt\" viewBox=\"0 0 219.59625 21.66\" version=\"1.1\">\n",
       " <metadata>\n",
       "  <rdf:RDF xmlns:dc=\"http://purl.org/dc/elements/1.1/\" xmlns:cc=\"http://creativecommons.org/ns#\" xmlns:rdf=\"http://www.w3.org/1999/02/22-rdf-syntax-ns#\">\n",
       "   <cc:Work>\n",
       "    <dc:type rdf:resource=\"http://purl.org/dc/dcmitype/StillImage\"/>\n",
       "    <dc:date>2023-11-21T16:03:13.167495</dc:date>\n",
       "    <dc:format>image/svg+xml</dc:format>\n",
       "    <dc:creator>\n",
       "     <cc:Agent>\n",
       "      <dc:title>Matplotlib v3.7.3, https://matplotlib.org/</dc:title>\n",
       "     </cc:Agent>\n",
       "    </dc:creator>\n",
       "   </cc:Work>\n",
       "  </rdf:RDF>\n",
       " </metadata>\n",
       " <defs>\n",
       "  <style type=\"text/css\">*{stroke-linejoin: round; stroke-linecap: butt}</style>\n",
       " </defs>\n",
       " <g id=\"figure_1\">\n",
       "  <g id=\"patch_1\">\n",
       "   <path d=\"M 0 21.66  L 219.59625 21.66  L 219.59625 0  L 0 0  L 0 21.66  z \" style=\"fill: none\"/>\n",
       "  </g>\n",
       "  <g id=\"axes_1\">\n",
       "   <g id=\"text_1\">\n",
       "    <!-- FSM CIS Training -->\n",
       "    <g style=\"fill: #62d84e\" transform=\"translate(0 17.29875) scale(0.24 -0.24)\">\n",
       "     <defs>\n",
       "      <path id=\"BlackOpsOne-Regular-46\" d=\"M 366 0  L 366 4147  L 1747 4147  L 1747 2294  L 3022 2294  L 3022 1478  L 1747 1478  L 1747 0  L 366 0  z M 2691 2772  L 2691 3319  L 1966 3319  L 1966 4147  L 4072 4147  L 4072 2772  L 2691 2772  z \" transform=\"scale(0.015625)\"/>\n",
       "      <path id=\"BlackOpsOne-Regular-53\" d=\"M 2928 0  L 2928 1553  L 1134 1553  L 303 2384  L 303 3319  L 1134 4147  L 1603 4147  L 1603 2675  L 3509 2675  L 4313 1844  L 4313 828  L 3484 0  L 2928 0  z M 2928 2984  L 2928 3400  L 1822 3400  L 1822 4147  L 3481 4147  L 4200 3425  L 4200 2984  L 2928 2984  z M 1000 0  L 303 828  L 303 1244  L 1684 1244  L 1684 750  L 2709 750  L 2709 0  L 1000 0  z \" transform=\"scale(0.015625)\"/>\n",
       "      <path id=\"BlackOpsOne-Regular-4d\" d=\"M 2828 0  L 369 4147  L 1838 4147  L 2950 2303  L 3825 3803  L 3825 1716  L 2828 0  z M 4028 0  L 4028 4147  L 5409 4147  L 5409 0  L 4028 0  z M 366 0  L 366 3763  L 1656 1597  L 1656 0  L 366 0  z \" transform=\"scale(0.015625)\"/>\n",
       "      <path id=\"BlackOpsOne-Regular-20\" transform=\"scale(0.015625)\"/>\n",
       "      <path id=\"BlackOpsOne-Regular-43\" d=\"M 1134 0  L 303 828  L 303 3319  L 1134 4147  L 1684 4147  L 1684 0  L 1134 0  z M 2822 2484  L 2822 3319  L 1903 3319  L 1903 4147  L 3375 4147  L 4203 3319  L 4203 2484  L 2822 2484  z M 1903 0  L 1903 828  L 2822 828  L 2822 1434  L 4203 1434  L 4203 828  L 3375 0  L 1903 0  z \" transform=\"scale(0.015625)\"/>\n",
       "      <path id=\"BlackOpsOne-Regular-49\" d=\"M 303 0  L 303 884  L 719 884  L 719 3266  L 303 3266  L 303 4147  L 2516 4147  L 2516 3266  L 2100 3266  L 2100 884  L 2516 884  L 2516 0  L 303 0  z \" transform=\"scale(0.015625)\"/>\n",
       "      <path id=\"BlackOpsOne-Regular-54\" d=\"M 163 3244  L 163 4147  L 3763 4147  L 3763 3244  L 163 3244  z M 1244 0  L 1244 3028  L 2681 3028  L 2681 0  L 1244 0  z \" transform=\"scale(0.015625)\"/>\n",
       "      <path id=\"BlackOpsOne-Regular-72\" d=\"M 325 0  L 325 3319  L 1706 3319  L 1706 0  L 325 0  z M 2516 1684  L 2516 2491  L 1928 2491  L 1928 2853  L 2391 3319  L 3228 3319  L 3900 2544  L 3900 1684  L 2516 1684  z \" transform=\"scale(0.015625)\"/>\n",
       "      <path id=\"BlackOpsOne-Regular-61\" d=\"M 2513 0  L 2513 2491  L 547 2491  L 547 2903  L 963 3319  L 3034 3319  L 3863 2491  L 3863 0  L 2513 0  z M 825 0  L 269 547  L 269 1378  L 825 1931  L 2294 1931  L 2294 1356  L 1581 1356  L 1581 775  L 2294 775  L 2294 409  L 1881 0  L 825 0  z \" transform=\"scale(0.015625)\"/>\n",
       "      <path id=\"BlackOpsOne-Regular-69\" d=\"M 328 3731  L 328 4613  L 1713 4613  L 1713 3731  L 328 3731  z M 328 0  L 328 3319  L 1713 3319  L 1713 0  L 328 0  z \" transform=\"scale(0.015625)\"/>\n",
       "      <path id=\"BlackOpsOne-Regular-6e\" d=\"M 2538 0  L 2538 2491  L 1944 2491  L 1944 2853  L 2406 3319  L 3175 3319  L 3922 2572  L 3922 0  L 2538 0  z M 325 0  L 325 3319  L 1719 3319  L 1719 0  L 325 0  z \" transform=\"scale(0.015625)\"/>\n",
       "      <path id=\"BlackOpsOne-Regular-67\" d=\"M 1241 -1163  L 825 -744  L 825 -438  L 2509 -438  L 2509 2491  L 1897 2491  L 1897 3319  L 3063 3319  L 3891 2491  L 3891 -328  L 3063 -1163  L 1241 -1163  z M 1125 0  L 297 828  L 297 2491  L 1125 3319  L 1678 3319  L 1678 775  L 2291 775  L 2291 409  L 1878 0  L 1125 0  z \" transform=\"scale(0.015625)\"/>\n",
       "     </defs>\n",
       "     <use xlink:href=\"#BlackOpsOne-Regular-46\"/>\n",
       "     <use xlink:href=\"#BlackOpsOne-Regular-53\" x=\"64.892578\"/>\n",
       "     <use xlink:href=\"#BlackOpsOne-Regular-4d\" x=\"137.011719\"/>\n",
       "     <use xlink:href=\"#BlackOpsOne-Regular-20\" x=\"227.246094\"/>\n",
       "     <use xlink:href=\"#BlackOpsOne-Regular-43\" x=\"253.125\"/>\n",
       "     <use xlink:href=\"#BlackOpsOne-Regular-49\" x=\"323.4375\"/>\n",
       "     <use xlink:href=\"#BlackOpsOne-Regular-53\" x=\"367.480469\"/>\n",
       "     <use xlink:href=\"#BlackOpsOne-Regular-20\" x=\"439.599609\"/>\n",
       "     <use xlink:href=\"#BlackOpsOne-Regular-54\" x=\"465.478516\"/>\n",
       "     <use xlink:href=\"#BlackOpsOne-Regular-72\" x=\"526.806641\"/>\n",
       "     <use xlink:href=\"#BlackOpsOne-Regular-61\" x=\"588.330078\"/>\n",
       "     <use xlink:href=\"#BlackOpsOne-Regular-69\" x=\"653.320312\"/>\n",
       "     <use xlink:href=\"#BlackOpsOne-Regular-6e\" x=\"685.205078\"/>\n",
       "     <use xlink:href=\"#BlackOpsOne-Regular-69\" x=\"751.416016\"/>\n",
       "     <use xlink:href=\"#BlackOpsOne-Regular-6e\" x=\"783.300781\"/>\n",
       "     <use xlink:href=\"#BlackOpsOne-Regular-67\" x=\"849.511719\"/>\n",
       "    </g>\n",
       "   </g>\n",
       "  </g>\n",
       " </g>\n",
       "</svg>"
      ],
      "text/plain": [
       "<IPython.core.display.SVG object>"
      ]
     },
     "execution_count": 5,
     "metadata": {},
     "output_type": "execute_result"
    }
   ],
   "source": [
    "# look at the image and adjust as needed before adding to servicenow instance\n",
    "SVG(filename=logo_file_path)"
   ]
  }
 ],
 "metadata": {
  "kernelspec": {
   "display_name": "svg_venv",
   "language": "python",
   "name": "python3"
  },
  "language_info": {
   "codemirror_mode": {
    "name": "ipython",
    "version": 3
   },
   "file_extension": ".py",
   "mimetype": "text/x-python",
   "name": "python",
   "nbconvert_exporter": "python",
   "pygments_lexer": "ipython3",
   "version": "3.11.1"
  }
 },
 "nbformat": 4,
 "nbformat_minor": 2
}
