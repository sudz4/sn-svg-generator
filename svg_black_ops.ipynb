{
 "cells": [
  {
   "cell_type": "code",
   "execution_count": 1,
   "metadata": {},
   "outputs": [],
   "source": [
    "import matplotlib.pyplot as plt\n",
    "from matplotlib import font_manager as fm\n",
    "\n",
    "# IMPORTANT TO DISPLAY SVG IN JUPYTER NOTEBOOK (development)\n",
    "from IPython.display import SVG"
   ]
  },
  {
   "cell_type": "code",
   "execution_count": 2,
   "metadata": {},
   "outputs": [],
   "source": [
    "\"\"\" \n",
    "ServiceNow UI16 logo text logo generation.\n",
    "\n",
    "main use case: generate a logo for a ServiceNow PDI instance,\n",
    "labelling and organization etc.\n",
    "\"\"\"\n",
    "\n",
    "text = \"Chione Systems\"\n",
    "color = \"#62d84e\"  # ServiceNow green or another neon-like color\n",
    "font_path = \"google_fonts/BlackOpsOne-Regular.ttf\"  # font path\n",
    "font_properties = fm.FontProperties(fname=font_path, size=24)\n",
    "\n",
    "# IMPORTANT -> get appropriate ServiceNow UI16 logo sizing correct\n",
    "aspect_ratio = 164 / 32\n",
    "fig_width = 2  # arbitrary base size in inches\n",
    "fig_height = fig_width / aspect_ratio\n",
    "\n",
    "# Create the figure and axis with the adjusted size\n",
    "fig, ax = plt.subplots(figsize=(fig_width, fig_height), dpi=80)\n",
    "ax.text(0.5, 0.5, text, color=color, fontproperties=font_properties, ha='center', va='center')\n",
    "ax.set_facecolor('none')\n",
    "ax.axis('off')\n",
    "\n",
    "# save the svg \n",
    "logo_file_path = \"chione-systems-military.svg\"\n",
    "plt.savefig(logo_file_path, format='svg', transparent=True, bbox_inches='tight', pad_inches=0)\n",
    "plt.close()\n"
   ]
  },
  {
   "cell_type": "code",
   "execution_count": 3,
   "metadata": {},
   "outputs": [
    {
     "data": {
      "image/svg+xml": [
       "<svg xmlns:xlink=\"http://www.w3.org/1999/xlink\" xmlns=\"http://www.w3.org/2000/svg\" width=\"207.07875pt\" height=\"21.635122pt\" viewBox=\"0 0 207.07875 21.635122\" version=\"1.1\">\n",
       " <metadata>\n",
       "  <rdf:RDF xmlns:dc=\"http://purl.org/dc/elements/1.1/\" xmlns:cc=\"http://creativecommons.org/ns#\" xmlns:rdf=\"http://www.w3.org/1999/02/22-rdf-syntax-ns#\">\n",
       "   <cc:Work>\n",
       "    <dc:type rdf:resource=\"http://purl.org/dc/dcmitype/StillImage\"/>\n",
       "    <dc:date>2024-01-11T14:41:26.213602</dc:date>\n",
       "    <dc:format>image/svg+xml</dc:format>\n",
       "    <dc:creator>\n",
       "     <cc:Agent>\n",
       "      <dc:title>Matplotlib v3.8.2, https://matplotlib.org/</dc:title>\n",
       "     </cc:Agent>\n",
       "    </dc:creator>\n",
       "   </cc:Work>\n",
       "  </rdf:RDF>\n",
       " </metadata>\n",
       " <defs>\n",
       "  <style type=\"text/css\">*{stroke-linejoin: round; stroke-linecap: butt}</style>\n",
       " </defs>\n",
       " <g id=\"figure_1\">\n",
       "  <g id=\"patch_1\">\n",
       "   <path d=\"M 0 21.635122  L 207.07875 21.635122  L 207.07875 0  L 0 0  L 0 21.635122  z \" style=\"fill: none\"/>\n",
       "  </g>\n",
       "  <g id=\"axes_1\">\n",
       "   <g id=\"text_1\">\n",
       "    <!-- Chione Systems -->\n",
       "    <g style=\"fill: #62d84e\" transform=\"translate(0 17.299436) scale(0.24 -0.24)\">\n",
       "     <defs>\n",
       "      <path id=\"BlackOpsOne-Regular-43\" d=\"M 1134 0  L 303 828  L 303 3319  L 1134 4147  L 1684 4147  L 1684 0  L 1134 0  z M 2822 2484  L 2822 3319  L 1903 3319  L 1903 4147  L 3375 4147  L 4203 3319  L 4203 2484  L 2822 2484  z M 1903 0  L 1903 828  L 2822 828  L 2822 1434  L 4203 1434  L 4203 828  L 3375 0  L 1903 0  z \" transform=\"scale(0.015625)\"/>\n",
       "      <path id=\"BlackOpsOne-Regular-68\" d=\"M 325 0  L 325 4584  L 1706 4584  L 1706 0  L 325 0  z M 2534 0  L 2534 2491  L 1925 2491  L 1925 2909  L 2331 3319  L 3088 3319  L 3919 2491  L 3919 0  L 2534 0  z \" transform=\"scale(0.015625)\"/>\n",
       "      <path id=\"BlackOpsOne-Regular-69\" d=\"M 328 3731  L 328 4613  L 1713 4613  L 1713 3731  L 328 3731  z M 328 0  L 328 3319  L 1713 3319  L 1713 0  L 328 0  z \" transform=\"scale(0.015625)\"/>\n",
       "      <path id=\"BlackOpsOne-Regular-6f\" d=\"M 1125 0  L 297 828  L 297 2491  L 1125 3319  L 2053 3319  L 2053 2491  L 1694 2491  L 1694 775  L 2053 775  L 2053 0  L 1125 0  z M 2272 0  L 2272 775  L 2616 775  L 2616 2491  L 2272 2491  L 2272 3319  L 3197 3319  L 4025 2491  L 4025 828  L 3197 0  L 2272 0  z \" transform=\"scale(0.015625)\"/>\n",
       "      <path id=\"BlackOpsOne-Regular-6e\" d=\"M 2538 0  L 2538 2491  L 1944 2491  L 1944 2853  L 2406 3319  L 3175 3319  L 3922 2572  L 3922 0  L 2538 0  z M 325 0  L 325 3319  L 1719 3319  L 1719 0  L 325 0  z \" transform=\"scale(0.015625)\"/>\n",
       "      <path id=\"BlackOpsOne-Regular-65\" d=\"M 1125 0  L 297 828  L 297 2491  L 1125 3319  L 1678 3319  L 1678 0  L 1125 0  z M 1897 1331  L 1897 1909  L 2625 1909  L 2625 2491  L 1897 2491  L 1897 3319  L 3069 3319  L 3897 2491  L 3897 1331  L 1897 1331  z M 1897 0  L 1897 775  L 3753 775  L 3753 416  L 3341 0  L 1897 0  z \" transform=\"scale(0.015625)\"/>\n",
       "      <path id=\"BlackOpsOne-Regular-20\" transform=\"scale(0.015625)\"/>\n",
       "      <path id=\"BlackOpsOne-Regular-53\" d=\"M 2928 0  L 2928 1553  L 1134 1553  L 303 2384  L 303 3319  L 1134 4147  L 1603 4147  L 1603 2675  L 3509 2675  L 4313 1844  L 4313 828  L 3484 0  L 2928 0  z M 2928 2984  L 2928 3400  L 1822 3400  L 1822 4147  L 3481 4147  L 4200 3425  L 4200 2984  L 2928 2984  z M 1000 0  L 303 828  L 303 1244  L 1684 1244  L 1684 750  L 2709 750  L 2709 0  L 1000 0  z \" transform=\"scale(0.015625)\"/>\n",
       "      <path id=\"BlackOpsOne-Regular-79\" d=\"M 850 -1156  L 2531 3319  L 3859 3319  L 2175 -1156  L 850 -1156  z M 1181 278  L -44 3319  L 1334 3319  L 1800 1969  L 1181 278  z \" transform=\"scale(0.015625)\"/>\n",
       "      <path id=\"BlackOpsOne-Regular-73\" d=\"M 2513 0  L 2513 1253  L 1019 1253  L 300 1944  L 300 2575  L 1047 3319  L 1600 3319  L 1600 2147  L 3175 2147  L 3894 1422  L 3894 775  L 3122 0  L 2513 0  z M 2513 2450  L 2513 2709  L 1819 2709  L 1819 3319  L 3288 3319  L 3781 2825  L 3781 2450  L 2513 2450  z M 872 0  L 297 684  L 297 950  L 1681 950  L 1681 609  L 2294 609  L 2294 0  L 872 0  z \" transform=\"scale(0.015625)\"/>\n",
       "      <path id=\"BlackOpsOne-Regular-74\" d=\"M 1225 0  L 394 828  L 394 2491  L 119 2491  L 119 3319  L 394 3319  L 394 3678  L 1775 4147  L 1775 828  L 2688 828  L 2688 0  L 1225 0  z M 1994 2491  L 1994 3319  L 2738 3319  L 2738 2491  L 1994 2491  z \" transform=\"scale(0.015625)\"/>\n",
       "      <path id=\"BlackOpsOne-Regular-6d\" d=\"M 2491 0  L 2491 2491  L 1928 2491  L 1928 2881  L 2363 3319  L 3431 3319  L 3875 2875  L 3875 0  L 2491 0  z M 325 0  L 325 3319  L 1709 3319  L 1709 0  L 325 0  z M 4656 0  L 4656 2491  L 4094 2491  L 4094 2875  L 4519 3319  L 5363 3319  L 6038 2638  L 6038 0  L 4656 0  z \" transform=\"scale(0.015625)\"/>\n",
       "     </defs>\n",
       "     <use xlink:href=\"#BlackOpsOne-Regular-43\"/>\n",
       "     <use xlink:href=\"#BlackOpsOne-Regular-68\" x=\"70.3125\"/>\n",
       "     <use xlink:href=\"#BlackOpsOne-Regular-69\" x=\"136.474609\"/>\n",
       "     <use xlink:href=\"#BlackOpsOne-Regular-6f\" x=\"168.359375\"/>\n",
       "     <use xlink:href=\"#BlackOpsOne-Regular-6e\" x=\"235.888672\"/>\n",
       "     <use xlink:href=\"#BlackOpsOne-Regular-65\" x=\"302.099609\"/>\n",
       "     <use xlink:href=\"#BlackOpsOne-Regular-20\" x=\"367.089844\"/>\n",
       "     <use xlink:href=\"#BlackOpsOne-Regular-53\" x=\"392.96875\"/>\n",
       "     <use xlink:href=\"#BlackOpsOne-Regular-79\" x=\"465.087891\"/>\n",
       "     <use xlink:href=\"#BlackOpsOne-Regular-73\" x=\"524.707031\"/>\n",
       "     <use xlink:href=\"#BlackOpsOne-Regular-74\" x=\"588.916016\"/>\n",
       "     <use xlink:href=\"#BlackOpsOne-Regular-65\" x=\"634.375\"/>\n",
       "     <use xlink:href=\"#BlackOpsOne-Regular-6d\" x=\"699.365234\"/>\n",
       "     <use xlink:href=\"#BlackOpsOne-Regular-73\" x=\"798.632812\"/>\n",
       "    </g>\n",
       "   </g>\n",
       "  </g>\n",
       " </g>\n",
       "</svg>"
      ],
      "text/plain": [
       "<IPython.core.display.SVG object>"
      ]
     },
     "execution_count": 3,
     "metadata": {},
     "output_type": "execute_result"
    }
   ],
   "source": [
    "# look at the image and adjust as needed before adding to servicenow instance\n",
    "SVG(filename=logo_file_path)"
   ]
  }
 ],
 "metadata": {
  "kernelspec": {
   "display_name": "svg_venv",
   "language": "python",
   "name": "python3"
  },
  "language_info": {
   "codemirror_mode": {
    "name": "ipython",
    "version": 3
   },
   "file_extension": ".py",
   "mimetype": "text/x-python",
   "name": "python",
   "nbconvert_exporter": "python",
   "pygments_lexer": "ipython3",
   "version": "3.11.1"
  }
 },
 "nbformat": 4,
 "nbformat_minor": 2
}
