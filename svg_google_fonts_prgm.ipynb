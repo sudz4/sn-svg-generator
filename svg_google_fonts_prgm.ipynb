{
 "cells": [
  {
   "cell_type": "code",
   "execution_count": 18,
   "metadata": {},
   "outputs": [],
   "source": [
    "import matplotlib.pyplot as plt\n",
    "from matplotlib import font_manager as fm\n",
    "# display SVG in Jupyter\n",
    "from IPython.display import SVG"
   ]
  },
  {
   "cell_type": "markdown",
   "metadata": {},
   "source": [
    "| ServiceNow UI16 Custom logos (text only) |\n",
    "|-|\n",
    "| Google Fonts |"
   ]
  },
  {
   "cell_type": "code",
   "execution_count": 28,
   "metadata": {},
   "outputs": [],
   "source": [
    "# set the test\n",
    "text = \"service-later.com\"\n",
    "color = \"#4F52FF\"\n",
    "# save the font path object\n",
    "# font_path = \"google_fonts/PermanentMarker-Regular.ttf\"\n",
    "font_path = \"google_fonts/BlackOpsOne-Regular.ttf\"\n",
    "font_properties = fm.FontProperties(fname=font_path, size=24)\n",
    "\n",
    "# get appropriate ServiceNow UI16 logo sizing correct\n",
    "\"\"\" \n",
    "idea here is to get the appropriate aspect ratio for the logo.\n",
    "a lot of logos end up looking jacked up because the aspect ratio is off.\n",
    "\"\"\"\n",
    "aspect_ratio = 164 / 32\n",
    "fig_width = 2  # arbitrary base size in inches\n",
    "fig_height = fig_width / aspect_ratio\n",
    "\n",
    "# figure and axis with the adjusted size\n",
    "fig, ax = plt.subplots(figsize=(fig_width, fig_height), dpi=80)\n",
    "ax.text(0.5, 0.5, text, color=color, fontproperties=font_properties, ha='center', va='center')\n",
    "ax.set_facecolor('none')\n",
    "ax.axis('off')\n",
    "\n",
    "# save SVG\n",
    "logo_file_path = \"svg_logo_collection/service-later_neon.svg\"\n",
    "plt.savefig(logo_file_path, format='svg', transparent=True, bbox_inches='tight', pad_inches=0)\n",
    "plt.close()\n"
   ]
  },
  {
   "cell_type": "code",
   "execution_count": 29,
   "metadata": {},
   "outputs": [
    {
     "data": {
      "image/svg+xml": [
       "<svg xmlns:xlink=\"http://www.w3.org/1999/xlink\" xmlns=\"http://www.w3.org/2000/svg\" width=\"243.0525pt\" height=\"21.635122pt\" viewBox=\"0 0 243.0525 21.635122\" version=\"1.1\">\n",
       " <metadata>\n",
       "  <rdf:RDF xmlns:dc=\"http://purl.org/dc/elements/1.1/\" xmlns:cc=\"http://creativecommons.org/ns#\" xmlns:rdf=\"http://www.w3.org/1999/02/22-rdf-syntax-ns#\">\n",
       "   <cc:Work>\n",
       "    <dc:type rdf:resource=\"http://purl.org/dc/dcmitype/StillImage\"/>\n",
       "    <dc:date>2024-07-15T17:40:28.795636</dc:date>\n",
       "    <dc:format>image/svg+xml</dc:format>\n",
       "    <dc:creator>\n",
       "     <cc:Agent>\n",
       "      <dc:title>Matplotlib v3.8.2, https://matplotlib.org/</dc:title>\n",
       "     </cc:Agent>\n",
       "    </dc:creator>\n",
       "   </cc:Work>\n",
       "  </rdf:RDF>\n",
       " </metadata>\n",
       " <defs>\n",
       "  <style type=\"text/css\">*{stroke-linejoin: round; stroke-linecap: butt}</style>\n",
       " </defs>\n",
       " <g id=\"figure_1\">\n",
       "  <g id=\"patch_1\">\n",
       "   <path d=\"M 0 21.635122  L 243.0525 21.635122  L 243.0525 0  L 0 0  L 0 21.635122  z \" style=\"fill: none\"/>\n",
       "  </g>\n",
       "  <g id=\"axes_1\">\n",
       "   <g id=\"text_1\">\n",
       "    <!-- service-later.com -->\n",
       "    <g style=\"fill: #4f52ff\" transform=\"translate(0 17.338811) scale(0.24 -0.24)\">\n",
       "     <defs>\n",
       "      <path id=\"BlackOpsOne-Regular-73\" d=\"M 2513 0  L 2513 1253  L 1019 1253  L 300 1944  L 300 2575  L 1047 3319  L 1600 3319  L 1600 2147  L 3175 2147  L 3894 1422  L 3894 775  L 3122 0  L 2513 0  z M 2513 2450  L 2513 2709  L 1819 2709  L 1819 3319  L 3288 3319  L 3781 2825  L 3781 2450  L 2513 2450  z M 872 0  L 297 684  L 297 950  L 1681 950  L 1681 609  L 2294 609  L 2294 0  L 872 0  z \" transform=\"scale(0.015625)\"/>\n",
       "      <path id=\"BlackOpsOne-Regular-65\" d=\"M 1125 0  L 297 828  L 297 2491  L 1125 3319  L 1678 3319  L 1678 0  L 1125 0  z M 1897 1331  L 1897 1909  L 2625 1909  L 2625 2491  L 1897 2491  L 1897 3319  L 3069 3319  L 3897 2491  L 3897 1331  L 1897 1331  z M 1897 0  L 1897 775  L 3753 775  L 3753 416  L 3341 0  L 1897 0  z \" transform=\"scale(0.015625)\"/>\n",
       "      <path id=\"BlackOpsOne-Regular-72\" d=\"M 325 0  L 325 3319  L 1706 3319  L 1706 0  L 325 0  z M 2516 1684  L 2516 2491  L 1928 2491  L 1928 2853  L 2391 3319  L 3228 3319  L 3900 2544  L 3900 1684  L 2516 1684  z \" transform=\"scale(0.015625)\"/>\n",
       "      <path id=\"BlackOpsOne-Regular-76\" d=\"M 1197 0  L -44 3319  L 1328 3319  L 2509 0  L 1197 0  z M 2650 184  L 2031 1941  L 2478 3319  L 3769 3319  L 2650 184  z \" transform=\"scale(0.015625)\"/>\n",
       "      <path id=\"BlackOpsOne-Regular-69\" d=\"M 328 3731  L 328 4613  L 1713 4613  L 1713 3731  L 328 3731  z M 328 0  L 328 3319  L 1713 3319  L 1713 0  L 328 0  z \" transform=\"scale(0.015625)\"/>\n",
       "      <path id=\"BlackOpsOne-Regular-63\" d=\"M 1125 0  L 297 828  L 297 2491  L 1125 3319  L 1678 3319  L 1678 0  L 1125 0  z M 2509 1994  L 2509 2491  L 1897 2491  L 1897 3319  L 3063 3319  L 3891 2491  L 3891 1994  L 2509 1994  z M 1897 0  L 1897 775  L 2509 775  L 2509 1191  L 3891 1191  L 3891 828  L 3063 0  L 1897 0  z \" transform=\"scale(0.015625)\"/>\n",
       "      <path id=\"BlackOpsOne-Regular-2d\" d=\"M 581 1566  L 581 2313  L 3341 2313  L 3341 1566  L 581 1566  z \" transform=\"scale(0.015625)\"/>\n",
       "      <path id=\"BlackOpsOne-Regular-6c\" d=\"M 1100 0  L 325 775  L 325 4584  L 1706 4584  L 1706 828  L 2325 828  L 2325 0  L 1100 0  z \" transform=\"scale(0.015625)\"/>\n",
       "      <path id=\"BlackOpsOne-Regular-61\" d=\"M 2513 0  L 2513 2491  L 547 2491  L 547 2903  L 963 3319  L 3034 3319  L 3863 2491  L 3863 0  L 2513 0  z M 825 0  L 269 547  L 269 1378  L 825 1931  L 2294 1931  L 2294 1356  L 1581 1356  L 1581 775  L 2294 775  L 2294 409  L 1881 0  L 825 0  z \" transform=\"scale(0.015625)\"/>\n",
       "      <path id=\"BlackOpsOne-Regular-74\" d=\"M 1225 0  L 394 828  L 394 2491  L 119 2491  L 119 3319  L 394 3319  L 394 3678  L 1775 4147  L 1775 828  L 2688 828  L 2688 0  L 1225 0  z M 1994 2491  L 1994 3319  L 2738 3319  L 2738 2491  L 1994 2491  z \" transform=\"scale(0.015625)\"/>\n",
       "      <path id=\"BlackOpsOne-Regular-2e\" d=\"M 459 0  L 459 966  L 1841 966  L 1841 0  L 459 0  z \" transform=\"scale(0.015625)\"/>\n",
       "      <path id=\"BlackOpsOne-Regular-6f\" d=\"M 1125 0  L 297 828  L 297 2491  L 1125 3319  L 2053 3319  L 2053 2491  L 1694 2491  L 1694 775  L 2053 775  L 2053 0  L 1125 0  z M 2272 0  L 2272 775  L 2616 775  L 2616 2491  L 2272 2491  L 2272 3319  L 3197 3319  L 4025 2491  L 4025 828  L 3197 0  L 2272 0  z \" transform=\"scale(0.015625)\"/>\n",
       "      <path id=\"BlackOpsOne-Regular-6d\" d=\"M 2491 0  L 2491 2491  L 1928 2491  L 1928 2881  L 2363 3319  L 3431 3319  L 3875 2875  L 3875 0  L 2491 0  z M 325 0  L 325 3319  L 1709 3319  L 1709 0  L 325 0  z M 4656 0  L 4656 2491  L 4094 2491  L 4094 2875  L 4519 3319  L 5363 3319  L 6038 2638  L 6038 0  L 4656 0  z \" transform=\"scale(0.015625)\"/>\n",
       "     </defs>\n",
       "     <use xlink:href=\"#BlackOpsOne-Regular-73\"/>\n",
       "     <use xlink:href=\"#BlackOpsOne-Regular-65\" x=\"64.208984\"/>\n",
       "     <use xlink:href=\"#BlackOpsOne-Regular-72\" x=\"129.199219\"/>\n",
       "     <use xlink:href=\"#BlackOpsOne-Regular-76\" x=\"190.722656\"/>\n",
       "     <use xlink:href=\"#BlackOpsOne-Regular-69\" x=\"248.925781\"/>\n",
       "     <use xlink:href=\"#BlackOpsOne-Regular-63\" x=\"280.810547\"/>\n",
       "     <use xlink:href=\"#BlackOpsOne-Regular-65\" x=\"345.410156\"/>\n",
       "     <use xlink:href=\"#BlackOpsOne-Regular-2d\" x=\"410.400391\"/>\n",
       "     <use xlink:href=\"#BlackOpsOne-Regular-6c\" x=\"471.679688\"/>\n",
       "     <use xlink:href=\"#BlackOpsOne-Regular-61\" x=\"508.447266\"/>\n",
       "     <use xlink:href=\"#BlackOpsOne-Regular-74\" x=\"573.4375\"/>\n",
       "     <use xlink:href=\"#BlackOpsOne-Regular-65\" x=\"618.896484\"/>\n",
       "     <use xlink:href=\"#BlackOpsOne-Regular-72\" x=\"683.886719\"/>\n",
       "     <use xlink:href=\"#BlackOpsOne-Regular-2e\" x=\"745.410156\"/>\n",
       "     <use xlink:href=\"#BlackOpsOne-Regular-63\" x=\"781.347656\"/>\n",
       "     <use xlink:href=\"#BlackOpsOne-Regular-6f\" x=\"845.947266\"/>\n",
       "     <use xlink:href=\"#BlackOpsOne-Regular-6d\" x=\"913.476562\"/>\n",
       "    </g>\n",
       "   </g>\n",
       "  </g>\n",
       " </g>\n",
       "</svg>"
      ],
      "text/plain": [
       "<IPython.core.display.SVG object>"
      ]
     },
     "execution_count": 29,
     "metadata": {},
     "output_type": "execute_result"
    }
   ],
   "source": [
    "# print(logo_file_path)\n",
    "SVG(filename=logo_file_path)"
   ]
  },
  {
   "cell_type": "markdown",
   "metadata": {},
   "source": [
    "#4F52FF: This keeps the same hue but maxes out the value, creating a more vibrant, pure blue-violet.\n",
    "#4FD6FF: This increases both saturation and value, resulting in a brighter, more electric blue-violet.\n",
    "#874FFF: This shifts the hue slightly towards a true blue while increasing saturation and value, creating a neon blue with violet undertones."
   ]
  },
  {
   "cell_type": "markdown",
   "metadata": {},
   "source": [
    "| END |\n",
    "|-|"
   ]
  },
  {
   "cell_type": "markdown",
   "metadata": {},
   "source": []
  }
 ],
 "metadata": {
  "kernelspec": {
   "display_name": "svg_venv",
   "language": "python",
   "name": "python3"
  },
  "language_info": {
   "codemirror_mode": {
    "name": "ipython",
    "version": 3
   },
   "file_extension": ".py",
   "mimetype": "text/x-python",
   "name": "python",
   "nbconvert_exporter": "python",
   "pygments_lexer": "ipython3",
   "version": "3.11.1"
  }
 },
 "nbformat": 4,
 "nbformat_minor": 2
}
