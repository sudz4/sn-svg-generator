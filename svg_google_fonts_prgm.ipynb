{
 "cells": [
  {
   "cell_type": "code",
   "execution_count": 18,
   "metadata": {},
   "outputs": [],
   "source": [
    "import matplotlib.pyplot as plt\n",
    "from matplotlib import font_manager as fm\n",
    "# display SVG in Jupyter\n",
    "from IPython.display import SVG"
   ]
  },
  {
   "cell_type": "markdown",
   "metadata": {},
   "source": [
    "| ServiceNow UI16 Custom logos (text only) |\n",
    "|-|\n",
    "| Google Fonts |"
   ]
  },
  {
   "cell_type": "code",
   "execution_count": 21,
   "metadata": {},
   "outputs": [],
   "source": [
    "# set the test\n",
    "text = \"Main PDI - Dev\"\n",
    "color = \"#C50201\" # ()\n",
    "# save the font path object\n",
    "# font_path = \"google_fonts/PermanentMarker-Regular.ttf\"\n",
    "font_path = \"google_fonts/BlackOpsOne-Regular.ttf\"\n",
    "font_properties = fm.FontProperties(fname=font_path, size=24)\n",
    "\n",
    "# get appropriate ServiceNow UI16 logo sizing correct\n",
    "\"\"\" \n",
    "idea here is to get the appropriate aspect ratio for the logo.\n",
    "a lot of logos end up looking jacked up because the aspect ratio is off.\n",
    "\"\"\"\n",
    "aspect_ratio = 164 / 32\n",
    "fig_width = 2  # arbitrary base size in inches\n",
    "fig_height = fig_width / aspect_ratio\n",
    "\n",
    "# figure and axis with the adjusted size\n",
    "fig, ax = plt.subplots(figsize=(fig_width, fig_height), dpi=80)\n",
    "ax.text(0.5, 0.5, text, color=color, fontproperties=font_properties, ha='center', va='center')\n",
    "ax.set_facecolor('none')\n",
    "ax.axis('off')\n",
    "\n",
    "# save SVG\n",
    "logo_file_path = \"svg_logo_collection/main_pdi.svg\"\n",
    "plt.savefig(logo_file_path, format='svg', transparent=True, bbox_inches='tight', pad_inches=0)\n",
    "plt.close()\n"
   ]
  },
  {
   "cell_type": "code",
   "execution_count": 22,
   "metadata": {},
   "outputs": [
    {
     "data": {
      "image/svg+xml": [
       "<svg xmlns:xlink=\"http://www.w3.org/1999/xlink\" xmlns=\"http://www.w3.org/2000/svg\" width=\"186.21375pt\" height=\"21.635122pt\" viewBox=\"0 0 186.21375 21.635122\" version=\"1.1\">\n",
       " <metadata>\n",
       "  <rdf:RDF xmlns:dc=\"http://purl.org/dc/elements/1.1/\" xmlns:cc=\"http://creativecommons.org/ns#\" xmlns:rdf=\"http://www.w3.org/1999/02/22-rdf-syntax-ns#\">\n",
       "   <cc:Work>\n",
       "    <dc:type rdf:resource=\"http://purl.org/dc/dcmitype/StillImage\"/>\n",
       "    <dc:date>2024-07-15T17:30:59.077841</dc:date>\n",
       "    <dc:format>image/svg+xml</dc:format>\n",
       "    <dc:creator>\n",
       "     <cc:Agent>\n",
       "      <dc:title>Matplotlib v3.8.2, https://matplotlib.org/</dc:title>\n",
       "     </cc:Agent>\n",
       "    </dc:creator>\n",
       "   </cc:Work>\n",
       "  </rdf:RDF>\n",
       " </metadata>\n",
       " <defs>\n",
       "  <style type=\"text/css\">*{stroke-linejoin: round; stroke-linecap: butt}</style>\n",
       " </defs>\n",
       " <g id=\"figure_1\">\n",
       "  <g id=\"patch_1\">\n",
       "   <path d=\"M 0 21.635122  L 186.21375 21.635122  L 186.21375 0  L 0 0  L 0 21.635122  z \" style=\"fill: none\"/>\n",
       "  </g>\n",
       "  <g id=\"axes_1\">\n",
       "   <g id=\"text_1\">\n",
       "    <!-- Main PDI - Dev -->\n",
       "    <g style=\"fill: #c50201\" transform=\"translate(0 17.338811) scale(0.24 -0.24)\">\n",
       "     <defs>\n",
       "      <path id=\"BlackOpsOne-Regular-4d\" d=\"M 2828 0  L 369 4147  L 1838 4147  L 2950 2303  L 3825 3803  L 3825 1716  L 2828 0  z M 4028 0  L 4028 4147  L 5409 4147  L 5409 0  L 4028 0  z M 366 0  L 366 3763  L 1656 1597  L 1656 0  L 366 0  z \" transform=\"scale(0.015625)\"/>\n",
       "      <path id=\"BlackOpsOne-Regular-61\" d=\"M 2513 0  L 2513 2491  L 547 2491  L 547 2903  L 963 3319  L 3034 3319  L 3863 2491  L 3863 0  L 2513 0  z M 825 0  L 269 547  L 269 1378  L 825 1931  L 2294 1931  L 2294 1356  L 1581 1356  L 1581 775  L 2294 775  L 2294 409  L 1881 0  L 825 0  z \" transform=\"scale(0.015625)\"/>\n",
       "      <path id=\"BlackOpsOne-Regular-69\" d=\"M 328 3731  L 328 4613  L 1713 4613  L 1713 3731  L 328 3731  z M 328 0  L 328 3319  L 1713 3319  L 1713 0  L 328 0  z \" transform=\"scale(0.015625)\"/>\n",
       "      <path id=\"BlackOpsOne-Regular-6e\" d=\"M 2538 0  L 2538 2491  L 1944 2491  L 1944 2853  L 2406 3319  L 3175 3319  L 3922 2572  L 3922 0  L 2538 0  z M 325 0  L 325 3319  L 1719 3319  L 1719 0  L 325 0  z \" transform=\"scale(0.015625)\"/>\n",
       "      <path id=\"BlackOpsOne-Regular-20\" transform=\"scale(0.015625)\"/>\n",
       "      <path id=\"BlackOpsOne-Regular-50\" d=\"M 1941 1066  L 1941 1897  L 2944 1897  L 2944 3319  L 1941 3319  L 1941 4147  L 3491 4147  L 4319 3319  L 4319 1897  L 3491 1066  L 1941 1066  z M 366 0  L 366 4147  L 1722 4147  L 1722 0  L 366 0  z \" transform=\"scale(0.015625)\"/>\n",
       "      <path id=\"BlackOpsOne-Regular-44\" d=\"M 1966 0  L 1966 828  L 2991 828  L 2991 3319  L 1966 3319  L 1966 4147  L 3544 4147  L 4375 3319  L 4375 828  L 3544 0  L 1966 0  z M 366 0  L 366 4147  L 1747 4147  L 1747 0  L 366 0  z \" transform=\"scale(0.015625)\"/>\n",
       "      <path id=\"BlackOpsOne-Regular-49\" d=\"M 303 0  L 303 884  L 719 884  L 719 3266  L 303 3266  L 303 4147  L 2516 4147  L 2516 3266  L 2100 3266  L 2100 884  L 2516 884  L 2516 0  L 303 0  z \" transform=\"scale(0.015625)\"/>\n",
       "      <path id=\"BlackOpsOne-Regular-2d\" d=\"M 581 1566  L 581 2313  L 3341 2313  L 3341 1566  L 581 1566  z \" transform=\"scale(0.015625)\"/>\n",
       "      <path id=\"BlackOpsOne-Regular-65\" d=\"M 1125 0  L 297 828  L 297 2491  L 1125 3319  L 1678 3319  L 1678 0  L 1125 0  z M 1897 1331  L 1897 1909  L 2625 1909  L 2625 2491  L 1897 2491  L 1897 3319  L 3069 3319  L 3897 2491  L 3897 1331  L 1897 1331  z M 1897 0  L 1897 775  L 3753 775  L 3753 416  L 3341 0  L 1897 0  z \" transform=\"scale(0.015625)\"/>\n",
       "      <path id=\"BlackOpsOne-Regular-76\" d=\"M 1197 0  L -44 3319  L 1328 3319  L 2509 0  L 1197 0  z M 2650 184  L 2031 1941  L 2478 3319  L 3769 3319  L 2650 184  z \" transform=\"scale(0.015625)\"/>\n",
       "     </defs>\n",
       "     <use xlink:href=\"#BlackOpsOne-Regular-4d\"/>\n",
       "     <use xlink:href=\"#BlackOpsOne-Regular-61\" x=\"90.234375\"/>\n",
       "     <use xlink:href=\"#BlackOpsOne-Regular-69\" x=\"155.224609\"/>\n",
       "     <use xlink:href=\"#BlackOpsOne-Regular-6e\" x=\"187.109375\"/>\n",
       "     <use xlink:href=\"#BlackOpsOne-Regular-20\" x=\"253.320312\"/>\n",
       "     <use xlink:href=\"#BlackOpsOne-Regular-50\" x=\"279.199219\"/>\n",
       "     <use xlink:href=\"#BlackOpsOne-Regular-44\" x=\"350.488281\"/>\n",
       "     <use xlink:href=\"#BlackOpsOne-Regular-49\" x=\"423.046875\"/>\n",
       "     <use xlink:href=\"#BlackOpsOne-Regular-20\" x=\"467.089844\"/>\n",
       "     <use xlink:href=\"#BlackOpsOne-Regular-2d\" x=\"492.96875\"/>\n",
       "     <use xlink:href=\"#BlackOpsOne-Regular-20\" x=\"554.248047\"/>\n",
       "     <use xlink:href=\"#BlackOpsOne-Regular-44\" x=\"580.126953\"/>\n",
       "     <use xlink:href=\"#BlackOpsOne-Regular-65\" x=\"652.685547\"/>\n",
       "     <use xlink:href=\"#BlackOpsOne-Regular-76\" x=\"717.675781\"/>\n",
       "    </g>\n",
       "   </g>\n",
       "  </g>\n",
       " </g>\n",
       "</svg>"
      ],
      "text/plain": [
       "<IPython.core.display.SVG object>"
      ]
     },
     "execution_count": 22,
     "metadata": {},
     "output_type": "execute_result"
    }
   ],
   "source": [
    "# print(logo_file_path)\n",
    "SVG(filename=logo_file_path)"
   ]
  },
  {
   "cell_type": "markdown",
   "metadata": {},
   "source": [
    "| END |\n",
    "|-|"
   ]
  },
  {
   "cell_type": "markdown",
   "metadata": {},
   "source": []
  }
 ],
 "metadata": {
  "kernelspec": {
   "display_name": "svg_venv",
   "language": "python",
   "name": "python3"
  },
  "language_info": {
   "codemirror_mode": {
    "name": "ipython",
    "version": 3
   },
   "file_extension": ".py",
   "mimetype": "text/x-python",
   "name": "python",
   "nbconvert_exporter": "python",
   "pygments_lexer": "ipython3",
   "version": "3.11.1"
  }
 },
 "nbformat": 4,
 "nbformat_minor": 2
}
