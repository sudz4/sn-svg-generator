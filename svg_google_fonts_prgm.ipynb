{
 "cells": [
  {
   "cell_type": "code",
   "execution_count": 1,
   "metadata": {},
   "outputs": [],
   "source": [
    "import matplotlib.pyplot as plt\n",
    "from matplotlib import font_manager as fm\n",
    "# display SVG in Jupyter\n",
    "from IPython.display import SVG"
   ]
  },
  {
   "cell_type": "markdown",
   "metadata": {},
   "source": [
    "| Bangers |\n",
    "|-|\n",
    "| Google Fonts |"
   ]
  },
  {
   "cell_type": "code",
   "execution_count": 7,
   "metadata": {},
   "outputs": [],
   "source": [
    "text = \"ServiceLater\"\n",
    "color = \"#62d84e\"  # ServiceNow green or another neon-like color\n",
    "font_path = \"google_fonts/Bangers-Regular.ttf\"\n",
    "font_properties = fm.FontProperties(fname=font_path, size=24)\n",
    "\n",
    "# get appropriate ServiceNow UI16 logo sizing correct\n",
    "aspect_ratio = 164 / 32\n",
    "fig_width = 2  # arbitrary base size in inches\n",
    "fig_height = fig_width / aspect_ratio\n",
    "\n",
    "# figure and axis with the adjusted size\n",
    "fig, ax = plt.subplots(figsize=(fig_width, fig_height), dpi=80)\n",
    "ax.text(0.5, 0.5, text, color=color, fontproperties=font_properties, ha='center', va='center')\n",
    "ax.set_facecolor('none')\n",
    "ax.axis('off')\n",
    "\n",
    "# save SVG\n",
    "logo_file_path = \"svg_logo_collection/servicelater-bangers.svg\"\n",
    "plt.savefig(logo_file_path, format='svg', transparent=True, bbox_inches='tight', pad_inches=0)\n",
    "plt.close()\n"
   ]
  },
  {
   "cell_type": "code",
   "execution_count": 8,
   "metadata": {},
   "outputs": [
    {
     "name": "stdout",
     "output_type": "stream",
     "text": [
      "svg_logo_collection/servicelater-bangers.svg\n"
     ]
    },
    {
     "data": {
      "image/svg+xml": [
       "<svg xmlns:xlink=\"http://www.w3.org/1999/xlink\" xmlns=\"http://www.w3.org/2000/svg\" width=\"111.6pt\" height=\"21.635122pt\" viewBox=\"0 0 111.6 21.635122\" version=\"1.1\">\n",
       " <metadata>\n",
       "  <rdf:RDF xmlns:dc=\"http://purl.org/dc/elements/1.1/\" xmlns:cc=\"http://creativecommons.org/ns#\" xmlns:rdf=\"http://www.w3.org/1999/02/22-rdf-syntax-ns#\">\n",
       "   <cc:Work>\n",
       "    <dc:type rdf:resource=\"http://purl.org/dc/dcmitype/StillImage\"/>\n",
       "    <dc:date>2024-06-01T19:12:51.140765</dc:date>\n",
       "    <dc:format>image/svg+xml</dc:format>\n",
       "    <dc:creator>\n",
       "     <cc:Agent>\n",
       "      <dc:title>Matplotlib v3.8.2, https://matplotlib.org/</dc:title>\n",
       "     </cc:Agent>\n",
       "    </dc:creator>\n",
       "   </cc:Work>\n",
       "  </rdf:RDF>\n",
       " </metadata>\n",
       " <defs>\n",
       "  <style type=\"text/css\">*{stroke-linejoin: round; stroke-linecap: butt}</style>\n",
       " </defs>\n",
       " <g id=\"figure_1\">\n",
       "  <g id=\"patch_1\">\n",
       "   <path d=\"M 0 21.635122  L 111.6 21.635122  L 111.6 0  L 0 0  L 0 21.635122  z \" style=\"fill: none\"/>\n",
       "  </g>\n",
       "  <g id=\"axes_1\">\n",
       "   <g id=\"text_1\">\n",
       "    <!-- ServiceLater -->\n",
       "    <g style=\"fill: #62d84e\" transform=\"translate(2.6025 19.600061) scale(0.24 -0.24)\">\n",
       "     <defs>\n",
       "      <path id=\"Bangers-Regular-53\" d=\"M 1094 -13  Q 838 -13 582 124  Q 326 262 90 563  L 563 1491  Q 634 1370 771 1261  Q 909 1152 1062 1088  Q 1216 1024 1325 1024  Q 1491 1024 1641 1126  Q 1792 1229 1792 1402  Q 1792 1626 1587 1811  Q 1382 1997 1126 2176  Q 877 2355 669 2582  Q 461 2810 461 3104  Q 461 3437 653 3721  Q 845 4006 1152 4220  Q 1459 4435 1808 4553  Q 2157 4672 2470 4672  Q 2694 4672 2886 4598  Q 3078 4525 3193 4358  Q 3309 4192 3309 3910  Q 3309 3866 3305 3821  Q 3302 3776 3296 3731  Q 3290 3686 3280 3638  Q 3270 3590 3264 3539  L 2336 3270  Q 2349 3322 2358 3373  Q 2368 3424 2368 3475  Q 2368 3667 2301 3753  Q 2234 3840 2125 3840  Q 2067 3840 1958 3779  Q 1850 3718 1763 3612  Q 1677 3507 1677 3379  Q 1677 3168 1853 3030  Q 2029 2893 2259 2752  Q 2368 2688 2502 2550  Q 2637 2413 2736 2179  Q 2835 1946 2835 1581  Q 2835 1107 2601 748  Q 2368 390 1971 188  Q 1574 -13 1094 -13  z \" transform=\"scale(0.015625)\"/>\n",
       "      <path id=\"Bangers-Regular-65\" d=\"M 51 -6  L 890 4544  L 2912 4717  Q 2867 4576 2835 4429  Q 2803 4307 2774 4176  Q 2746 4045 2726 3942  Q 2643 3936 2489 3933  Q 2336 3930 2176 3926  Q 2016 3923 1901 3923  Q 1786 3923 1779 3923  L 1555 2778  L 1926 2797  Q 1997 2803 2070 2803  Q 2144 2803 2214 2803  Q 2285 2803 2342 2803  Q 2400 2803 2432 2810  Q 2419 2720 2409 2633  Q 2400 2547 2387 2458  L 2330 2106  Q 2298 2099 2246 2099  Q 2195 2099 2125 2099  Q 2054 2093 1977 2093  Q 1901 2093 1830 2086  Q 1747 2080 1657 2080  Q 1568 2080 1466 2074  L 1248 896  L 2182 1043  L 2118 314  L 51 -6  z \" transform=\"scale(0.015625)\"/>\n",
       "      <path id=\"Bangers-Regular-72\" d=\"M 26 -6  L 358 1658  Q 435 2118 524 2604  Q 614 3091 694 3564  Q 774 4038 819 4454  Q 1184 4570 1606 4624  Q 2029 4678 2445 4678  Q 2931 4678 3107 4467  Q 3283 4256 3283 3898  Q 3283 3571 3129 3241  Q 2976 2912 2729 2646  Q 2483 2381 2189 2227  Q 2304 1971 2435 1667  Q 2566 1363 2682 1088  Q 2746 928 2813 768  Q 2880 608 2944 448  L 1952 102  L 1722 870  Q 1626 1190 1546 1488  Q 1466 1786 1453 1907  L 1370 1882  Q 1350 1779 1328 1660  Q 1306 1542 1280 1402  Q 1254 1261 1228 1129  Q 1203 998 1178 870  L 1062 262  L 26 -6  z M 1530 2771  Q 1645 2784 1814 2870  Q 1984 2957 2153 3085  Q 2323 3213 2438 3347  Q 2554 3482 2554 3584  Q 2554 3712 2403 3753  Q 2253 3795 2010 3795  L 1869 3795  Q 1830 3789 1798 3789  Q 1766 3789 1734 3789  L 1530 2771  z \" transform=\"scale(0.015625)\"/>\n",
       "      <path id=\"Bangers-Regular-76\" d=\"M 378 -58  Q 422 390 460 832  Q 499 1274 531 1702  Q 602 2483 643 3238  Q 685 3994 698 4653  Q 1197 4653 1446 4675  Q 1696 4698 1696 4698  Q 1664 4326 1632 4022  Q 1600 3718 1574 3482  L 1498 2707  Q 1466 2355 1443 2112  Q 1421 1869 1401 1664  Q 1382 1459 1350 1216  L 1466 1216  L 2182 4621  L 2534 4640  Q 2618 4646 2701 4649  Q 2784 4653 2874 4659  Q 2963 4666 3043 4672  Q 3123 4678 3194 4685  Q 3072 4307 2947 3840  Q 2822 3373 2697 2873  Q 2573 2374 2445 1888  Q 2342 1478 2240 1052  Q 2138 627 2035 192  L 378 -58  z \" transform=\"scale(0.015625)\"/>\n",
       "      <path id=\"Bangers-Regular-69\" d=\"M 32 6  Q 122 378 211 848  Q 301 1318 390 1824  Q 480 2330 557 2797  Q 627 3206 694 3628  Q 762 4051 826 4480  L 1824 4640  L 1536 2957  Q 1440 2362 1366 1888  Q 1293 1414 1225 992  Q 1158 570 1088 128  Q 966 128 793 112  Q 621 96 448 73  Q 275 51 156 32  Q 38 13 32 6  z \" transform=\"scale(0.015625)\"/>\n",
       "      <path id=\"Bangers-Regular-63\" d=\"M 1165 -13  Q 762 -13 506 364  Q 250 742 250 1402  Q 250 2003 416 2588  Q 582 3174 883 3642  Q 1184 4109 1597 4393  Q 2010 4678 2509 4678  Q 2822 4678 3046 4435  Q 3270 4192 3270 3782  L 3270 3706  Q 3270 3680 3270 3661  Q 3270 3642 3264 3616  L 2426 3392  Q 2349 3552 2246 3552  Q 2093 3552 1923 3302  Q 1754 3053 1600 2707  Q 1498 2477 1418 2233  Q 1338 1990 1293 1779  Q 1248 1568 1248 1434  Q 1248 1235 1306 1146  Q 1350 1062 1446 1062  Q 1542 1062 1657 1155  Q 1773 1248 1872 1389  Q 1971 1530 2003 1670  L 2733 1376  Q 2419 659 1987 323  Q 1555 -13 1165 -13  z \" transform=\"scale(0.015625)\"/>\n",
       "      <path id=\"Bangers-Regular-4c\" d=\"M 77 -13  Q 147 493 227 1005  Q 307 1517 393 1993  Q 480 2470 557 2854  Q 640 3270 723 3699  Q 806 4128 896 4563  L 2016 4710  L 1683 3264  Q 1594 2886 1501 2454  Q 1408 2022 1331 1619  Q 1254 1216 1210 902  Q 1370 915 1552 918  Q 1734 922 1875 922  Q 1882 774 1901 611  Q 1920 448 1942 329  Q 1965 211 1965 198  Q 1939 198 1916 198  Q 1894 198 1869 205  L 1766 205  Q 1517 205 1213 182  Q 909 160 611 112  Q 314 64 77 -13  z \" transform=\"scale(0.015625)\"/>\n",
       "      <path id=\"Bangers-Regular-61\" d=\"M 1658 13  Q 1670 122 1683 224  Q 1696 326 1709 429  L 1747 787  Q 1754 877 1760 953  Q 1766 1030 1773 1094  L 1216 1094  L 960 173  Q 819 154 627 131  Q 435 109 269 90  Q 166 77 67 64  Q -32 51 -134 38  L 371 1715  Q 461 2016 576 2400  Q 691 2784 809 3187  Q 928 3590 1033 3945  Q 1139 4301 1203 4544  Q 1638 4576 2089 4621  Q 2541 4666 2970 4742  Q 2938 4384 2909 3933  Q 2880 3482 2857 3002  Q 2835 2522 2810 2054  Q 2797 1613 2777 1142  Q 2758 672 2739 179  Q 2643 166 2547 153  Q 2451 141 2355 128  Q 2195 102 2003 70  Q 1811 38 1658 13  z M 1370 1734  Q 1408 1734 1513 1740  Q 1619 1747 1715 1753  Q 1811 1760 1830 1760  Q 1830 1843 1856 2099  Q 1882 2355 1907 2637  Q 1920 2803 1936 2979  Q 1952 3155 1971 3341  L 2010 3898  L 1914 3891  L 1766 3341  L 1370 1734  z \" transform=\"scale(0.015625)\"/>\n",
       "      <path id=\"Bangers-Regular-74\" d=\"M 576 -6  Q 646 346 720 694  Q 794 1043 858 1382  Q 1101 2598 1254 3712  Q 1184 3725 1107 3728  Q 1030 3731 960 3725  Q 806 3712 659 3763  Q 666 3814 666 3875  Q 666 3936 666 4000  Q 666 4070 666 4137  Q 666 4205 672 4269  Q 678 4339 678 4419  Q 678 4499 685 4582  Q 851 4570 1017 4563  Q 1184 4557 1350 4557  Q 1824 4557 2256 4589  Q 2688 4621 3053 4666  L 2982 4320  L 2925 4019  Q 2893 3853 2867 3757  Q 2797 3738 2726 3725  Q 2656 3712 2586 3706  Q 2515 3699 2441 3686  Q 2368 3674 2298 3661  Q 2202 3187 2141 2841  Q 2080 2496 2032 2179  Q 1984 1862 1920 1485  Q 1811 838 1728 173  L 576 -6  z \" transform=\"scale(0.015625)\"/>\n",
       "     </defs>\n",
       "     <use xlink:href=\"#Bangers-Regular-53\"/>\n",
       "     <use xlink:href=\"#Bangers-Regular-65\" x=\"42.999985\"/>\n",
       "     <use xlink:href=\"#Bangers-Regular-72\" x=\"77.099976\"/>\n",
       "     <use xlink:href=\"#Bangers-Regular-76\" x=\"121.499969\"/>\n",
       "     <use xlink:href=\"#Bangers-Regular-69\" x=\"159.399963\"/>\n",
       "     <use xlink:href=\"#Bangers-Regular-63\" x=\"179.59996\"/>\n",
       "     <use xlink:href=\"#Bangers-Regular-65\" x=\"220.999954\"/>\n",
       "     <use xlink:href=\"#Bangers-Regular-4c\" x=\"255.099945\"/>\n",
       "     <use xlink:href=\"#Bangers-Regular-61\" x=\"285.299942\"/>\n",
       "     <use xlink:href=\"#Bangers-Regular-74\" x=\"328.59993\"/>\n",
       "     <use xlink:href=\"#Bangers-Regular-65\" x=\"364.799927\"/>\n",
       "     <use xlink:href=\"#Bangers-Regular-72\" x=\"398.899918\"/>\n",
       "    </g>\n",
       "   </g>\n",
       "  </g>\n",
       " </g>\n",
       "</svg>"
      ],
      "text/plain": [
       "<IPython.core.display.SVG object>"
      ]
     },
     "execution_count": 8,
     "metadata": {},
     "output_type": "execute_result"
    }
   ],
   "source": [
    "# print(logo_file_path)\n",
    "SVG(filename=logo_file_path)"
   ]
  }
 ],
 "metadata": {
  "kernelspec": {
   "display_name": "svg_venv",
   "language": "python",
   "name": "python3"
  },
  "language_info": {
   "codemirror_mode": {
    "name": "ipython",
    "version": 3
   },
   "file_extension": ".py",
   "mimetype": "text/x-python",
   "name": "python",
   "nbconvert_exporter": "python",
   "pygments_lexer": "ipython3",
   "version": "3.11.1"
  }
 },
 "nbformat": 4,
 "nbformat_minor": 2
}
