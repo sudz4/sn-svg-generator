{
 "cells": [
  {
   "cell_type": "code",
   "execution_count": 1,
   "metadata": {},
   "outputs": [],
   "source": [
    "# libs\n",
    "import matplotlib.pyplot as plt\n",
    "from IPython.display import SVG"
   ]
  },
  {
   "cell_type": "code",
   "execution_count": 4,
   "metadata": {},
   "outputs": [
    {
     "data": {
      "text/plain": [
       "'sidewayzSnow_logo.svg'"
      ]
     },
     "execution_count": 4,
     "metadata": {},
     "output_type": "execute_result"
    }
   ],
   "source": [
    "# Define the text and its properties\n",
    "text = \"FSM CIS Lab Instance\"\n",
    "color = \"#62d84e\" # changed from servicenow green \"#62D84D\"\n",
    "font_properties = {'family': 'Marker Felt', 'weight': 'bold', 'size': 24} # can change to whatever \n",
    "\n",
    "# Get appropriate ServiceNow UI16 logo sizing correct\n",
    "# Calculate the aspect ratio and figsize\n",
    "aspect_ratio = 164 / 32\n",
    "fig_width = 2  # arbitrary base size in inches\n",
    "fig_height = fig_width / aspect_ratio\n",
    "\n",
    "# Create the figure and axis with the adjusted size\n",
    "fig, ax = plt.subplots(figsize=(fig_width, fig_height), dpi=80)\n",
    "ax.text(0.5, 0.5, text, color=color, fontdict=font_properties, ha='center', va='center')\n",
    "ax.set_facecolor('none')\n",
    "\n",
    "# Remove axis\n",
    "ax.axis('off')\n",
    "\n",
    "# Save as SVG with the desired dimensions\n",
    "logo_file_path = \"fsm_cis_labs.svg\"\n",
    "plt.savefig(logo_file_path, format='svg', transparent=True, bbox_inches='tight', pad_inches=0)\n",
    "plt.close()\n",
    "\n",
    "logo_file_path\n"
   ]
  },
  {
   "cell_type": "code",
   "execution_count": 5,
   "metadata": {},
   "outputs": [
    {
     "data": {
      "image/svg+xml": [
       "<svg xmlns:xlink=\"http://www.w3.org/1999/xlink\" xmlns=\"http://www.w3.org/2000/svg\" width=\"125.73pt\" height=\"24.76875pt\" viewBox=\"0 0 125.73 24.76875\" version=\"1.1\">\n",
       " <metadata>\n",
       "  <rdf:RDF xmlns:dc=\"http://purl.org/dc/elements/1.1/\" xmlns:cc=\"http://creativecommons.org/ns#\" xmlns:rdf=\"http://www.w3.org/1999/02/22-rdf-syntax-ns#\">\n",
       "   <cc:Work>\n",
       "    <dc:type rdf:resource=\"http://purl.org/dc/dcmitype/StillImage\"/>\n",
       "    <dc:date>2023-10-21T09:45:53.565357</dc:date>\n",
       "    <dc:format>image/svg+xml</dc:format>\n",
       "    <dc:creator>\n",
       "     <cc:Agent>\n",
       "      <dc:title>Matplotlib v3.7.3, https://matplotlib.org/</dc:title>\n",
       "     </cc:Agent>\n",
       "    </dc:creator>\n",
       "   </cc:Work>\n",
       "  </rdf:RDF>\n",
       " </metadata>\n",
       " <defs>\n",
       "  <style type=\"text/css\">*{stroke-linejoin: round; stroke-linecap: butt}</style>\n",
       " </defs>\n",
       " <g id=\"figure_1\">\n",
       "  <g id=\"patch_1\">\n",
       "   <path d=\"M 0 24.76875  L 125.73 24.76875  L 125.73 0  L 0 0  L 0 24.76875  z \" style=\"fill: none\"/>\n",
       "  </g>\n",
       "  <g id=\"axes_1\">\n",
       "   <g id=\"text_1\">\n",
       "    <!-- Pacific Beach -->\n",
       "    <g style=\"fill: #62d84e\" transform=\"translate(0 19.5375) scale(0.24 -0.24)\">\n",
       "     <defs>\n",
       "      <path id=\"MarkerFelt-Thin-50\" d=\"M 2880 4838  Q 2976 4698 2976 4461  Q 2976 3904 2368 2746  Q 1734 1523 1331 1523  Q 1229 1523 1178 1638  Q 1158 1491 1158 1267  Q 1158 883 1203 384  Q 1203 339 1235 236  Q 1267 134 1267 83  Q 1267 -38 1101 -122  Q 1024 -160 896 -160  Q 685 -160 499 -64  Q 288 38 256 205  Q 250 250 250 282  Q 250 378 317 458  Q 384 538 384 563  L 269 4710  Q 269 4730 249 4787  Q 230 4845 230 4877  Q 230 4992 397 5056  Q 525 5107 666 5107  Q 710 5107 1024 5069  Q 1062 5069 1404 5206  Q 1747 5344 2010 5344  Q 2522 5344 2880 4838  z M 1926 4582  Q 1773 4582 1533 4419  Q 1293 4256 1114 4045  L 1139 2573  Q 1421 2784 1750 3421  Q 2080 4058 2080 4390  Q 2080 4582 1926 4582  z \" transform=\"scale(0.015625)\"/>\n",
       "      <path id=\"MarkerFelt-Thin-61\" d=\"M 2854 269  Q 2758 -45 2381 -45  Q 2253 -45 2176 0  Q 2074 70 2035 282  Q 1958 646 1882 851  Q 1862 499 1497 137  Q 1133 -224 762 -224  Q 294 -224 115 397  Q 51 627 51 832  Q 51 1427 659 1850  Q 1158 2144 1664 2432  Q 1690 2541 1690 2643  Q 1690 2842 1581 2877  Q 1472 2912 1395 2912  Q 1261 2912 1174 2825  Q 1088 2739 1011 2662  Q 934 2611 813 2426  Q 717 2278 602 2266  Q 435 2246 300 2380  Q 166 2515 166 2694  Q 166 2797 218 2880  Q 365 3123 659 3302  Q 1107 3571 1779 3571  Q 2208 3571 2368 3162  Q 2470 2886 2522 2131  Q 2579 1216 2662 794  Q 2675 710 2771 582  Q 2867 454 2867 358  Q 2867 314 2854 269  z M 1741 1843  Q 1549 1741 1360 1632  Q 1171 1523 1011 1344  Q 781 1082 781 896  Q 781 742 896 576  Q 960 486 1037 486  Q 1203 486 1398 857  Q 1594 1229 1741 1843  z \" transform=\"scale(0.015625)\"/>\n",
       "      <path id=\"MarkerFelt-Thin-63\" d=\"M 2362 1062  Q 2355 922 2240 774  Q 2061 563 2010 454  Q 1606 -160 1178 -160  Q 672 -160 390 352  Q 141 819 141 1530  Q 141 2342 448 2944  Q 787 3610 1325 3610  Q 1747 3610 2010 3142  Q 2227 2746 2227 2278  Q 2227 2150 2208 2054  Q 2163 1837 1843 1837  Q 1594 1837 1459 1978  Q 1395 2048 1395 2304  Q 1395 2368 1402 2490  Q 1402 2618 1402 2675  Q 1402 2963 1299 2963  Q 1190 2963 1068 2332  Q 947 1702 947 1152  Q 947 512 1139 512  Q 1389 512 1510 915  Q 1562 973 1568 1146  Q 1568 1299 1645 1347  Q 1722 1395 1869 1395  Q 2061 1395 2202 1312  Q 2368 1216 2362 1062  z \" transform=\"scale(0.015625)\"/>\n",
       "      <path id=\"MarkerFelt-Thin-69\" d=\"M 1114 4800  Q 1133 4781 1133 4736  Q 1133 4678 1094 4538  Q 1050 4365 1037 4301  Q 1024 4237 1050 4019  Q 1050 3885 970 3843  Q 890 3802 768 3802  Q 595 3802 416 3872  Q 198 3962 198 4109  Q 198 4154 236 4234  Q 275 4314 282 4365  Q 294 4416 282 4621  Q 269 4781 346 4838  Q 448 4915 710 4915  Q 998 4915 1114 4800  z M 1197 3238  Q 1197 3149 1097 2960  Q 998 2771 998 2650  L 998 768  Q 998 640 1068 406  Q 1139 173 1139 83  Q 1139 -45 1037 -109  Q 877 -211 691 -211  Q 448 -211 346 -45  Q 211 160 211 1178  Q 211 1421 220 1936  Q 230 2451 230 2688  Q 230 2778 211 2922  Q 192 3066 192 3130  Q 192 3341 346 3494  Q 410 3558 582 3558  Q 755 3558 928 3504  Q 1101 3450 1149 3379  Q 1197 3309 1197 3238  z \" transform=\"scale(0.015625)\"/>\n",
       "      <path id=\"MarkerFelt-Thin-66\" d=\"M 2496 3034  Q 2438 2867 2262 2848  Q 2086 2829 1920 2816  L 1459 2688  L 1453 608  Q 1453 442 1574 294  Q 1696 147 1696 70  Q 1696 26 1677 -19  Q 1587 -243 1299 -243  Q 1114 -243 957 -150  Q 800 -58 768 77  Q 730 243 730 499  L 730 2496  Q 602 2438 461 2458  Q 19 2515 19 2816  Q 19 2906 77 3008  Q 115 3072 307 3104  Q 602 3155 691 3187  Q 704 4147 858 4563  Q 1069 5146 1690 5338  Q 1734 5350 1792 5350  Q 1971 5350 2166 5235  Q 2362 5120 2342 5030  Q 2317 4896 2112 4832  Q 1869 4749 1792 4659  Q 1562 4378 1491 4070  Q 1434 3834 1446 3392  Q 1491 3405 1760 3488  Q 1933 3539 2074 3533  Q 2234 3526 2371 3398  Q 2509 3270 2509 3123  Q 2509 3078 2496 3034  z \" transform=\"scale(0.015625)\"/>\n",
       "      <path id=\"MarkerFelt-Thin-20\" transform=\"scale(0.015625)\"/>\n",
       "      <path id=\"MarkerFelt-Thin-42\" d=\"M 3014 2163  Q 3014 1760 2598 1248  Q 2515 1152 1766 371  Q 1645 141 1523 -83  Q 1363 -301 1139 -275  Q 704 -224 410 179  Q 307 314 307 429  Q 307 557 448 672  Q 384 1024 326 2579  Q 282 3859 282 4326  Q 147 4538 147 4762  Q 147 4928 243 5030  Q 314 5101 448 5101  Q 794 5101 1011 4838  Q 1632 5069 2022 5069  Q 2464 5069 2611 4787  Q 2707 4608 2707 4390  Q 2707 3718 1984 2982  Q 2278 2893 2573 2803  Q 2848 2701 2931 2525  Q 3014 2349 3014 2163  z M 1651 4275  Q 1491 4275 1062 3994  Q 1062 3936 1075 3619  Q 1088 3302 1088 3200  Q 1344 3418 1558 3722  Q 1773 4026 1773 4173  Q 1773 4275 1651 4275  z M 1869 2240  Q 1498 2240 1165 1958  L 1190 986  Q 2106 1709 2106 2067  Q 2106 2240 1869 2240  z \" transform=\"scale(0.015625)\"/>\n",
       "      <path id=\"MarkerFelt-Thin-65\" d=\"M 2496 672  Q 2445 429 2150 154  Q 2106 83 1798 -32  Q 1446 -166 1190 -147  Q 710 -115 435 403  Q 186 883 186 1581  Q 186 2336 467 2906  Q 781 3533 1306 3610  Q 1408 3622 1504 3622  Q 2266 3622 2342 2688  Q 2381 2259 2003 1754  Q 1594 1197 954 973  Q 1024 717 1062 640  Q 1152 480 1306 480  Q 1453 480 1619 595  Q 1760 691 1811 781  Q 1837 794 1862 925  Q 1888 1056 1997 1114  Q 2035 1133 2086 1133  Q 2240 1133 2384 982  Q 2528 832 2496 672  z M 1491 2925  Q 1235 2925 1075 2560  Q 864 2074 902 1600  Q 1203 1696 1459 2048  Q 1715 2400 1715 2675  Q 1715 2925 1491 2925  z \" transform=\"scale(0.015625)\"/>\n",
       "      <path id=\"MarkerFelt-Thin-68\" d=\"M 2803 538  Q 2842 378 2842 333  Q 2842 198 2685 112  Q 2528 26 2349 26  Q 2074 26 1997 230  Q 1965 314 1965 371  Q 1965 454 2038 550  Q 2112 646 2112 730  Q 2189 1062 2189 1690  Q 2189 2778 2035 2803  Q 1920 2822 1664 2438  Q 1395 2035 1216 1536  Q 1005 947 1037 499  Q 1018 461 1018 422  Q 1018 365 1069 259  Q 1120 154 1120 90  Q 1120 26 1075 -32  Q 902 -282 730 -282  Q 550 -282 384 0  Q 288 166 288 1914  Q 288 2554 320 4826  Q 320 4864 313 4944  Q 307 5024 307 5069  Q 314 5133 346 5184  Q 416 5318 646 5318  Q 851 5318 1020 5209  Q 1190 5101 1152 4954  Q 1146 4915 1091 4864  Q 1037 4813 1037 4762  L 1037 2701  Q 1402 3520 2112 3571  Q 2496 3597 2726 2995  Q 2938 2445 2938 1645  Q 2938 1030 2803 538  z \" transform=\"scale(0.015625)\"/>\n",
       "     </defs>\n",
       "     <use xlink:href=\"#MarkerFelt-Thin-50\"/>\n",
       "     <use xlink:href=\"#MarkerFelt-Thin-61\" x=\"44.999985\"/>\n",
       "     <use xlink:href=\"#MarkerFelt-Thin-63\" x=\"93.624969\"/>\n",
       "     <use xlink:href=\"#MarkerFelt-Thin-69\" x=\"135.749954\"/>\n",
       "     <use xlink:href=\"#MarkerFelt-Thin-66\" x=\"160.499939\"/>\n",
       "     <use xlink:href=\"#MarkerFelt-Thin-69\" x=\"203.874924\"/>\n",
       "     <use xlink:href=\"#MarkerFelt-Thin-63\" x=\"226.624908\"/>\n",
       "     <use xlink:href=\"#MarkerFelt-Thin-20\" x=\"264.624893\"/>\n",
       "     <use xlink:href=\"#MarkerFelt-Thin-42\" x=\"289.624878\"/>\n",
       "     <use xlink:href=\"#MarkerFelt-Thin-65\" x=\"340.874863\"/>\n",
       "     <use xlink:href=\"#MarkerFelt-Thin-61\" x=\"387.249847\"/>\n",
       "     <use xlink:href=\"#MarkerFelt-Thin-63\" x=\"435.874832\"/>\n",
       "     <use xlink:href=\"#MarkerFelt-Thin-68\" x=\"476.874817\"/>\n",
       "    </g>\n",
       "   </g>\n",
       "  </g>\n",
       " </g>\n",
       "</svg>"
      ],
      "text/plain": [
       "<IPython.core.display.SVG object>"
      ]
     },
     "execution_count": 5,
     "metadata": {},
     "output_type": "execute_result"
    }
   ],
   "source": [
    "# look at the image and adjust as needed before adding to servicenow instance\n",
    "SVG(filename=logo_file_path)"
   ]
  }
 ],
 "metadata": {
  "kernelspec": {
   "display_name": "Python 3",
   "language": "python",
   "name": "python3"
  },
  "language_info": {
   "codemirror_mode": {
    "name": "ipython",
    "version": 3
   },
   "file_extension": ".py",
   "mimetype": "text/x-python",
   "name": "python",
   "nbconvert_exporter": "python",
   "pygments_lexer": "ipython3",
   "version": "3.11.1"
  },
  "orig_nbformat": 4
 },
 "nbformat": 4,
 "nbformat_minor": 2
}
