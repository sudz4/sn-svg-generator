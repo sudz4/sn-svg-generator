{
 "cells": [
  {
   "cell_type": "code",
   "execution_count": null,
   "metadata": {},
   "outputs": [],
   "source": [
    "import matplotlib.pyplot as plt\n",
    "\n",
    "# Define the text and its properties\n",
    "text = \"sudz4\"\n",
    "color = \"white\"\n",
    "font_properties = {'family': 'Marker Felt', 'weight': 'bold', 'size': 24} # can change to whatever \n",
    "\n",
    "# Create the figure and axis\n",
    "fig, ax = plt.subplots(figsize=(2, 2), dpi=80)  # i think 160x160 pixels for UI16 in servicenow is good\n",
    "ax.text(0.5, 0.5, text, color=color, fontdict=font_properties, ha='center', va='center')\n",
    "ax.set_facecolor('none')\n",
    "\n",
    "# Remove axis\n",
    "ax.axis('off')\n",
    "\n",
    "# Save as SVG\n",
    "file_path = \"sudz4_logo.svg\"\n",
    "plt.savefig(file_path, format='svg', transparent=True, bbox_inches='tight', pad_inches=0)\n",
    "plt.close()\n",
    "\n",
    "file_path\n"
   ]
  }
 ],
 "metadata": {
  "language_info": {
   "name": "python"
  },
  "orig_nbformat": 4
 },
 "nbformat": 4,
 "nbformat_minor": 2
}
