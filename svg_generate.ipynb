{
 "cells": [
  {
   "cell_type": "code",
   "execution_count": 2,
   "metadata": {},
   "outputs": [],
   "source": [
    "# libs\n",
    "import matplotlib.pyplot as plt\n",
    "from IPython.display import SVG"
   ]
  },
  {
   "cell_type": "code",
   "execution_count": 4,
   "metadata": {},
   "outputs": [
    {
     "data": {
      "text/plain": [
       "'va13-customer-1.svg'"
      ]
     },
     "execution_count": 4,
     "metadata": {},
     "output_type": "execute_result"
    }
   ],
   "source": [
    "# Define the text and its properties\n",
    "text = \"VA13 Customer #1\"\n",
    "color = \"#003087\" # changed from servicenow green \"#62D84D\"\n",
    "font_properties = {'family': 'Marker Felt', 'weight': 'bold', 'size': 24} # can change to whatever \n",
    "\n",
    "# Get appropriate ServiceNow UI16 logo sizing correct\n",
    "# Calculate the aspect ratio and figsize\n",
    "aspect_ratio = 164 / 32\n",
    "fig_width = 2  # arbitrary base size in inches\n",
    "fig_height = fig_width / aspect_ratio\n",
    "\n",
    "# Create the figure and axis with the adjusted size\n",
    "fig, ax = plt.subplots(figsize=(fig_width, fig_height), dpi=80)\n",
    "ax.text(0.5, 0.5, text, color=color, fontdict=font_properties, ha='center', va='center')\n",
    "ax.set_facecolor('none')\n",
    "\n",
    "# Remove axis\n",
    "ax.axis('off')\n",
    "\n",
    "# Save as SVG with the desired dimensions\n",
    "logo_file_path = \"va13-customer-1.svg\"\n",
    "plt.savefig(logo_file_path, format='svg', transparent=True, bbox_inches='tight', pad_inches=0)\n",
    "plt.close()\n",
    "\n",
    "logo_file_path\n"
   ]
  },
  {
   "cell_type": "code",
   "execution_count": 3,
   "metadata": {},
   "outputs": [
    {
     "data": {
      "image/svg+xml": [
       "<svg xmlns:xlink=\"http://www.w3.org/1999/xlink\" xmlns=\"http://www.w3.org/2000/svg\" width=\"189.3pt\" height=\"24.76875pt\" viewBox=\"0 0 189.3 24.76875\" version=\"1.1\">\n",
       " <metadata>\n",
       "  <rdf:RDF xmlns:dc=\"http://purl.org/dc/elements/1.1/\" xmlns:cc=\"http://creativecommons.org/ns#\" xmlns:rdf=\"http://www.w3.org/1999/02/22-rdf-syntax-ns#\">\n",
       "   <cc:Work>\n",
       "    <dc:type rdf:resource=\"http://purl.org/dc/dcmitype/StillImage\"/>\n",
       "    <dc:date>2023-12-01T12:52:02.487378</dc:date>\n",
       "    <dc:format>image/svg+xml</dc:format>\n",
       "    <dc:creator>\n",
       "     <cc:Agent>\n",
       "      <dc:title>Matplotlib v3.7.3, https://matplotlib.org/</dc:title>\n",
       "     </cc:Agent>\n",
       "    </dc:creator>\n",
       "   </cc:Work>\n",
       "  </rdf:RDF>\n",
       " </metadata>\n",
       " <defs>\n",
       "  <style type=\"text/css\">*{stroke-linejoin: round; stroke-linecap: butt}</style>\n",
       " </defs>\n",
       " <g id=\"figure_1\">\n",
       "  <g id=\"patch_1\">\n",
       "   <path d=\"M 0 24.76875  L 189.3 24.76875  L 189.3 0  L 0 0  L 0 24.76875  z \" style=\"fill: none\"/>\n",
       "  </g>\n",
       "  <g id=\"axes_1\">\n",
       "   <g id=\"text_1\">\n",
       "    <!-- Infocenter Sandbox -->\n",
       "    <g style=\"fill: #e02b20\" transform=\"translate(0 19.5375) scale(0.24 -0.24)\">\n",
       "     <defs>\n",
       "      <path id=\"MarkerFelt-Thin-49\" d=\"M 1370 51  Q 1312 -109 1037 -109  Q 960 -109 870 -96  Q 346 -13 256 218  Q 237 262 237 307  Q 237 442 384 576  Q 358 1536 269 4493  Q 275 4576 224 4688  Q 173 4800 173 4851  Q 173 4966 320 5094  Q 422 5184 608 5184  Q 819 5184 1056 5075  Q 1338 4941 1338 4749  Q 1338 4704 1203 4403  L 1267 525  Q 1267 448 1324 329  Q 1382 211 1382 141  Q 1382 96 1370 51  z \" transform=\"scale(0.015625)\"/>\n",
       "      <path id=\"MarkerFelt-Thin-6e\" d=\"M 3072 410  Q 3059 269 2886 169  Q 2714 70 2502 70  Q 2189 70 2074 269  Q 2125 2240 1958 2266  Q 1798 2291 1178 499  Q 1178 307 1178 115  Q 1171 -115 1052 -211  Q 934 -307 800 -307  Q 570 -307 307 -58  Q 230 6 224 915  Q 230 358 230 2982  Q 230 3040 217 3139  Q 205 3238 205 3283  Q 205 3405 269 3494  Q 346 3610 512 3610  Q 685 3610 873 3504  Q 1062 3398 1101 3302  Q 1126 3238 1126 3174  Q 1126 3110 1075 2995  Q 1024 2880 1024 2803  L 1024 1920  Q 1427 2778 1632 3053  Q 1997 3526 2458 3494  Q 2733 3475 2848 2982  Q 2938 2611 2944 1882  Q 2944 1306 2944 730  Q 2957 685 3034 570  Q 3078 506 3072 410  z \" transform=\"scale(0.015625)\"/>\n",
       "      <path id=\"MarkerFelt-Thin-66\" d=\"M 2496 3034  Q 2438 2867 2262 2848  Q 2086 2829 1920 2816  L 1459 2688  L 1453 608  Q 1453 442 1574 294  Q 1696 147 1696 70  Q 1696 26 1677 -19  Q 1587 -243 1299 -243  Q 1114 -243 957 -150  Q 800 -58 768 77  Q 730 243 730 499  L 730 2496  Q 602 2438 461 2458  Q 19 2515 19 2816  Q 19 2906 77 3008  Q 115 3072 307 3104  Q 602 3155 691 3187  Q 704 4147 858 4563  Q 1069 5146 1690 5338  Q 1734 5350 1792 5350  Q 1971 5350 2166 5235  Q 2362 5120 2342 5030  Q 2317 4896 2112 4832  Q 1869 4749 1792 4659  Q 1562 4378 1491 4070  Q 1434 3834 1446 3392  Q 1491 3405 1760 3488  Q 1933 3539 2074 3533  Q 2234 3526 2371 3398  Q 2509 3270 2509 3123  Q 2509 3078 2496 3034  z \" transform=\"scale(0.015625)\"/>\n",
       "      <path id=\"MarkerFelt-Thin-6f\" d=\"M 2112 3302  Q 2541 2867 2541 1837  Q 2541 1037 2240 474  Q 1901 -160 1306 -160  Q 717 -160 397 410  Q 115 909 115 1677  Q 115 2355 333 2893  Q 563 3469 922 3571  Q 1107 3622 1306 3622  Q 1798 3622 2112 3302  z M 1382 2995  Q 1171 3014 1018 2598  Q 883 2221 883 1805  Q 883 1203 934 954  Q 1024 506 1306 461  Q 1485 435 1638 954  Q 1786 1453 1786 2022  Q 1786 2957 1382 2995  z \" transform=\"scale(0.015625)\"/>\n",
       "      <path id=\"MarkerFelt-Thin-63\" d=\"M 2362 1062  Q 2355 922 2240 774  Q 2061 563 2010 454  Q 1606 -160 1178 -160  Q 672 -160 390 352  Q 141 819 141 1530  Q 141 2342 448 2944  Q 787 3610 1325 3610  Q 1747 3610 2010 3142  Q 2227 2746 2227 2278  Q 2227 2150 2208 2054  Q 2163 1837 1843 1837  Q 1594 1837 1459 1978  Q 1395 2048 1395 2304  Q 1395 2368 1402 2490  Q 1402 2618 1402 2675  Q 1402 2963 1299 2963  Q 1190 2963 1068 2332  Q 947 1702 947 1152  Q 947 512 1139 512  Q 1389 512 1510 915  Q 1562 973 1568 1146  Q 1568 1299 1645 1347  Q 1722 1395 1869 1395  Q 2061 1395 2202 1312  Q 2368 1216 2362 1062  z \" transform=\"scale(0.015625)\"/>\n",
       "      <path id=\"MarkerFelt-Thin-65\" d=\"M 2496 672  Q 2445 429 2150 154  Q 2106 83 1798 -32  Q 1446 -166 1190 -147  Q 710 -115 435 403  Q 186 883 186 1581  Q 186 2336 467 2906  Q 781 3533 1306 3610  Q 1408 3622 1504 3622  Q 2266 3622 2342 2688  Q 2381 2259 2003 1754  Q 1594 1197 954 973  Q 1024 717 1062 640  Q 1152 480 1306 480  Q 1453 480 1619 595  Q 1760 691 1811 781  Q 1837 794 1862 925  Q 1888 1056 1997 1114  Q 2035 1133 2086 1133  Q 2240 1133 2384 982  Q 2528 832 2496 672  z M 1491 2925  Q 1235 2925 1075 2560  Q 864 2074 902 1600  Q 1203 1696 1459 2048  Q 1715 2400 1715 2675  Q 1715 2925 1491 2925  z \" transform=\"scale(0.015625)\"/>\n",
       "      <path id=\"MarkerFelt-Thin-74\" d=\"M 2202 2906  Q 2150 2906 2041 2947  Q 1933 2989 1875 2989  Q 1830 2989 1786 2970  L 1549 2848  L 1549 659  Q 1549 538 1680 346  Q 1811 154 1786 38  Q 1754 -102 1597 -185  Q 1440 -269 1261 -269  Q 922 -269 794 32  Q 755 122 749 602  Q 742 922 755 1600  Q 768 2368 768 2573  Q 730 2560 640 2486  Q 550 2413 461 2413  Q 390 2413 282 2451  Q -166 2605 -166 2765  Q -166 2803 -147 2848  Q -102 2950 19 2963  Q 205 2989 243 3008  Q 390 3066 781 3283  L 781 3840  Q 781 3904 745 4009  Q 710 4115 710 4166  Q 710 4224 742 4275  Q 909 4531 1190 4531  Q 1517 4531 1651 4275  Q 1702 4173 1702 4109  Q 1702 4032 1625 3949  Q 1549 3866 1549 3795  L 1549 3482  Q 1664 3533 1805 3654  Q 1914 3744 1990 3744  Q 2022 3744 2061 3731  Q 2464 3622 2464 3245  Q 2464 3123 2390 3014  Q 2317 2906 2202 2906  z \" transform=\"scale(0.015625)\"/>\n",
       "      <path id=\"MarkerFelt-Thin-72\" d=\"M 2611 3264  Q 2586 3130 2368 3078  Q 2112 3014 2042 2931  L 998 1728  L 998 755  Q 998 614 1078 470  Q 1158 326 1158 250  Q 1158 173 1114 77  Q 1005 -166 672 -166  Q 442 -166 307 -19  Q 218 77 218 224  Q 218 275 230 390  Q 243 506 243 576  L 243 2970  Q 243 3027 192 3110  Q 141 3194 141 3245  Q 141 3283 166 3334  Q 250 3488 685 3488  Q 1024 3488 1069 3328  Q 1088 3264 1088 3219  Q 1088 3149 1037 3110  Q 986 3072 986 3034  L 998 2803  L 1549 3386  Q 1645 3494 1750 3603  Q 1856 3712 1997 3725  Q 2214 3744 2416 3629  Q 2618 3514 2618 3328  Q 2618 3296 2611 3264  z \" transform=\"scale(0.015625)\"/>\n",
       "      <path id=\"MarkerFelt-Thin-20\" transform=\"scale(0.015625)\"/>\n",
       "      <path id=\"MarkerFelt-Thin-53\" d=\"M 3021 1062  Q 3021 563 2704 188  Q 2387 -186 1920 -186  Q 979 -186 538 710  Q 58 1024 58 1242  Q 58 1350 192 1421  Q 454 1562 672 1562  Q 1146 1562 1306 998  Q 1382 845 1465 691  Q 1549 538 1690 538  Q 2067 538 2067 1075  Q 2067 1555 1894 1722  Q 1818 1792 1280 2016  Q 851 2195 589 2630  Q 352 3027 346 3456  Q 339 4147 691 4685  Q 1062 5261 1613 5261  Q 2253 5261 2547 4749  Q 2739 4429 2765 3955  Q 2835 3712 2835 3514  Q 2835 3386 2803 3302  Q 2707 3066 2426 3066  Q 2214 3066 2042 3219  Q 1850 3386 1805 3686  Q 1786 3789 1846 3891  Q 1907 3994 1907 4006  Q 1907 4019 1894 4032  Q 1901 4064 1901 4096  Q 1901 4288 1677 4275  Q 1459 4262 1338 3987  Q 1229 3750 1242 3443  Q 1261 2899 1958 2573  Q 2509 2317 2720 2067  Q 3021 1709 3021 1062  z \" transform=\"scale(0.015625)\"/>\n",
       "      <path id=\"MarkerFelt-Thin-61\" d=\"M 2854 269  Q 2758 -45 2381 -45  Q 2253 -45 2176 0  Q 2074 70 2035 282  Q 1958 646 1882 851  Q 1862 499 1497 137  Q 1133 -224 762 -224  Q 294 -224 115 397  Q 51 627 51 832  Q 51 1427 659 1850  Q 1158 2144 1664 2432  Q 1690 2541 1690 2643  Q 1690 2842 1581 2877  Q 1472 2912 1395 2912  Q 1261 2912 1174 2825  Q 1088 2739 1011 2662  Q 934 2611 813 2426  Q 717 2278 602 2266  Q 435 2246 300 2380  Q 166 2515 166 2694  Q 166 2797 218 2880  Q 365 3123 659 3302  Q 1107 3571 1779 3571  Q 2208 3571 2368 3162  Q 2470 2886 2522 2131  Q 2579 1216 2662 794  Q 2675 710 2771 582  Q 2867 454 2867 358  Q 2867 314 2854 269  z M 1741 1843  Q 1549 1741 1360 1632  Q 1171 1523 1011 1344  Q 781 1082 781 896  Q 781 742 896 576  Q 960 486 1037 486  Q 1203 486 1398 857  Q 1594 1229 1741 1843  z \" transform=\"scale(0.015625)\"/>\n",
       "      <path id=\"MarkerFelt-Thin-64\" d=\"M 2534 38  Q 2458 -134 2061 -134  Q 1811 -134 1728 -32  Q 1696 0 1696 58  Q 1696 102 1728 198  Q 1760 294 1766 346  Q 1472 -70 1075 -70  Q 544 -70 301 531  Q 115 992 115 1728  Q 115 2406 403 2963  Q 723 3571 1190 3571  Q 1453 3571 1728 3149  L 1728 3974  Q 1728 4077 1645 4237  Q 1562 4397 1562 4480  Q 1562 4544 1594 4608  Q 1728 4896 2118 4896  Q 2438 4896 2515 4666  Q 2541 4589 2541 4518  Q 2541 4448 2499 4329  Q 2458 4211 2458 4128  L 2458 480  Q 2458 410 2509 310  Q 2560 211 2560 147  Q 2560 96 2534 38  z M 1651 1728  Q 1651 2022 1530 2419  Q 1395 2842 1267 2842  Q 1120 2842 1030 2451  Q 960 2131 960 1728  Q 960 1658 954 1498  Q 954 1344 954 1261  Q 954 538 1267 538  Q 1414 538 1536 954  Q 1651 1338 1651 1728  z \" transform=\"scale(0.015625)\"/>\n",
       "      <path id=\"MarkerFelt-Thin-62\" d=\"M 2637 1728  Q 2637 992 2451 531  Q 2208 -70 1677 -70  Q 1280 -70 986 346  Q 992 294 1024 198  Q 1056 102 1056 58  Q 1056 0 1024 -32  Q 941 -134 691 -134  Q 294 -134 218 38  Q 192 96 192 147  Q 192 211 243 310  Q 294 410 294 480  L 294 4128  Q 294 4211 252 4329  Q 211 4448 211 4518  Q 211 4589 237 4666  Q 314 4896 634 4896  Q 1024 4896 1158 4608  Q 1190 4544 1190 4480  Q 1190 4397 1107 4237  Q 1024 4077 1024 3974  L 1024 3149  Q 1299 3571 1562 3571  Q 2029 3571 2349 2963  Q 2637 2406 2637 1728  z M 1792 1728  Q 1792 2131 1722 2451  Q 1632 2842 1485 2842  Q 1357 2842 1229 2419  Q 1101 2022 1101 1728  Q 1101 1338 1216 954  Q 1338 538 1485 538  Q 1798 538 1798 1261  Q 1798 1344 1798 1498  Q 1792 1658 1792 1728  z \" transform=\"scale(0.015625)\"/>\n",
       "      <path id=\"MarkerFelt-Thin-78\" d=\"M 2650 3392  Q 2662 3283 2522 3187  Q 2342 3059 2304 2995  L 1574 1728  L 2189 538  Q 2202 518 2323 339  Q 2400 230 2400 141  Q 2400 90 2381 38  Q 2272 -237 1978 -237  Q 1856 -237 1741 -186  Q 1581 -115 1565 -3  Q 1549 109 1536 218  L 1190 1075  L 806 307  Q 768 179 717 54  Q 666 -70 518 -70  Q 333 -70 160 58  Q -26 205 0 384  Q 13 454 86 534  Q 160 614 179 653  L 742 1677  L 346 2918  Q 326 2982 220 3075  Q 115 3168 102 3251  Q 83 3398 282 3514  Q 461 3610 666 3610  Q 781 3610 845 3571  Q 986 3482 1018 3344  Q 1050 3206 1075 3072  L 1267 2470  L 1690 3226  Q 1747 3347 1814 3475  Q 1882 3603 1997 3648  Q 2067 3680 2157 3680  Q 2323 3680 2480 3587  Q 2637 3494 2650 3392  z \" transform=\"scale(0.015625)\"/>\n",
       "     </defs>\n",
       "     <use xlink:href=\"#MarkerFelt-Thin-49\"/>\n",
       "     <use xlink:href=\"#MarkerFelt-Thin-6e\" x=\"27.249985\"/>\n",
       "     <use xlink:href=\"#MarkerFelt-Thin-66\" x=\"79.499969\"/>\n",
       "     <use xlink:href=\"#MarkerFelt-Thin-6f\" x=\"120.624954\"/>\n",
       "     <use xlink:href=\"#MarkerFelt-Thin-63\" x=\"166.499939\"/>\n",
       "     <use xlink:href=\"#MarkerFelt-Thin-65\" x=\"208.124924\"/>\n",
       "     <use xlink:href=\"#MarkerFelt-Thin-6e\" x=\"252.499908\"/>\n",
       "     <use xlink:href=\"#MarkerFelt-Thin-74\" x=\"307.249893\"/>\n",
       "     <use xlink:href=\"#MarkerFelt-Thin-65\" x=\"345.374878\"/>\n",
       "     <use xlink:href=\"#MarkerFelt-Thin-72\" x=\"389.374863\"/>\n",
       "     <use xlink:href=\"#MarkerFelt-Thin-20\" x=\"427.374847\"/>\n",
       "     <use xlink:href=\"#MarkerFelt-Thin-53\" x=\"452.374832\"/>\n",
       "     <use xlink:href=\"#MarkerFelt-Thin-61\" x=\"506.749817\"/>\n",
       "     <use xlink:href=\"#MarkerFelt-Thin-6e\" x=\"556.624802\"/>\n",
       "     <use xlink:href=\"#MarkerFelt-Thin-64\" x=\"609.374786\"/>\n",
       "     <use xlink:href=\"#MarkerFelt-Thin-62\" x=\"655.749771\"/>\n",
       "     <use xlink:href=\"#MarkerFelt-Thin-6f\" x=\"703.624756\"/>\n",
       "     <use xlink:href=\"#MarkerFelt-Thin-78\" x=\"747.749741\"/>\n",
       "    </g>\n",
       "   </g>\n",
       "  </g>\n",
       " </g>\n",
       "</svg>"
      ],
      "text/plain": [
       "<IPython.core.display.SVG object>"
      ]
     },
     "execution_count": 3,
     "metadata": {},
     "output_type": "execute_result"
    }
   ],
   "source": [
    "# look at the image and adjust as needed before adding to servicenow instance\n",
    "SVG(filename=logo_file_path)"
   ]
  }
 ],
 "metadata": {
  "kernelspec": {
   "display_name": "Python 3",
   "language": "python",
   "name": "python3"
  },
  "language_info": {
   "codemirror_mode": {
    "name": "ipython",
    "version": 3
   },
   "file_extension": ".py",
   "mimetype": "text/x-python",
   "name": "python",
   "nbconvert_exporter": "python",
   "pygments_lexer": "ipython3",
   "version": "3.11.1"
  },
  "orig_nbformat": 4
 },
 "nbformat": 4,
 "nbformat_minor": 2
}
