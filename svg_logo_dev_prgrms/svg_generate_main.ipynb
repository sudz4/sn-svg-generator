{
 "cells": [
  {
   "cell_type": "code",
   "execution_count": 1,
   "metadata": {},
   "outputs": [],
   "source": [
    "# libs\n",
    "import matplotlib.pyplot as plt\n",
    "from IPython.display import SVG"
   ]
  },
  {
   "cell_type": "code",
   "execution_count": 3,
   "metadata": {},
   "outputs": [
    {
     "name": "stdout",
     "output_type": "stream",
     "text": [
      "discoverycisinstance.svg\n"
     ]
    },
    {
     "data": {
      "text/plain": [
       "'discoverycisinstance.svg'"
      ]
     },
     "execution_count": 3,
     "metadata": {},
     "output_type": "execute_result"
    }
   ],
   "source": [
    "# Define the text and its properties\n",
    "text = \"Discovery CIS Instance\"\n",
    "color = \"#62d84e\" # servicenow green \"#62D84D\"\n",
    "# color = \"#62d84e\" # servicenow green \"#62D84D\"\n",
    "# cornell_red = '#B31B1B'\n",
    "font_properties = {'family': 'Marker Felt', 'weight': 'bold', 'size': 24} # can change to whatever \n",
    "\n",
    "# Get appropriate ServiceNow UI16 logo sizing correct\n",
    "# Calculate the aspect ratio and figsize\n",
    "aspect_ratio = 164 / 32\n",
    "fig_width = 2  # arbitrary base size in inches\n",
    "fig_height = fig_width / aspect_ratio\n",
    "\n",
    "# Create the figure and axis with the adjusted size\n",
    "fig, ax = plt.subplots(figsize=(fig_width, fig_height), dpi=80)\n",
    "ax.text(0.5, 0.5, text, color=color, fontdict=font_properties, ha='center', va='center')\n",
    "ax.set_facecolor('none')\n",
    "\n",
    "# Remove axis\n",
    "ax.axis('off')\n",
    "\n",
    "# Save as SVG with the desired dimensions\n",
    "# logo_file_path = \"chione-snow-systems.svg\"\n",
    "\n",
    "# concat string in 'text' and make lowercase\n",
    "# and remove the '/'\n",
    "logo_file_path = text.lower().replace(' ', '').replace('/', '') + '.svg'\n",
    "\n",
    "print(logo_file_path)\n",
    "\n",
    "plt.savefig(logo_file_path, format='svg', transparent=True, bbox_inches='tight', pad_inches=0)\n",
    "plt.close()\n",
    "\n",
    "logo_file_path\n"
   ]
  },
  {
   "cell_type": "code",
   "execution_count": 4,
   "metadata": {},
   "outputs": [
    {
     "data": {
      "image/svg+xml": [
       "<svg xmlns:xlink=\"http://www.w3.org/1999/xlink\" xmlns=\"http://www.w3.org/2000/svg\" width=\"218.28pt\" height=\"24.76875pt\" viewBox=\"0 0 218.28 24.76875\" version=\"1.1\">\n",
       " <metadata>\n",
       "  <rdf:RDF xmlns:dc=\"http://purl.org/dc/elements/1.1/\" xmlns:cc=\"http://creativecommons.org/ns#\" xmlns:rdf=\"http://www.w3.org/1999/02/22-rdf-syntax-ns#\">\n",
       "   <cc:Work>\n",
       "    <dc:type rdf:resource=\"http://purl.org/dc/dcmitype/StillImage\"/>\n",
       "    <dc:date>2024-04-14T21:43:16.665520</dc:date>\n",
       "    <dc:format>image/svg+xml</dc:format>\n",
       "    <dc:creator>\n",
       "     <cc:Agent>\n",
       "      <dc:title>Matplotlib v3.8.2, https://matplotlib.org/</dc:title>\n",
       "     </cc:Agent>\n",
       "    </dc:creator>\n",
       "   </cc:Work>\n",
       "  </rdf:RDF>\n",
       " </metadata>\n",
       " <defs>\n",
       "  <style type=\"text/css\">*{stroke-linejoin: round; stroke-linecap: butt}</style>\n",
       " </defs>\n",
       " <g id=\"figure_1\">\n",
       "  <g id=\"patch_1\">\n",
       "   <path d=\"M 0 24.76875  L 218.28 24.76875  L 218.28 0  L 0 0  L 0 24.76875  z \" style=\"fill: none\"/>\n",
       "  </g>\n",
       "  <g id=\"axes_1\">\n",
       "   <g id=\"text_1\">\n",
       "    <!-- Discovery CIS Instance -->\n",
       "    <g style=\"fill: #62d84e\" transform=\"translate(0 19.5375) scale(0.24 -0.24)\">\n",
       "     <defs>\n",
       "      <path id=\"MarkerFelt-Thin-44\" d=\"M 3046 4173  Q 3072 3744 2752 2669  Q 2413 1517 1984 704  Q 1466 -262 1037 -262  Q 819 -262 617 -70  Q 416 122 416 326  Q 416 422 474 499  Q 371 3258 397 4250  Q 262 4467 262 4576  Q 262 4730 435 4845  Q 589 4954 755 4954  Q 909 4954 1011 4864  Q 1843 5190 2118 5190  Q 2266 5190 2406 5120  Q 2618 5018 2810 4762  Q 3027 4467 3046 4173  z M 2176 4365  Q 2112 4442 2010 4442  Q 1811 4442 1229 3981  Q 1190 3501 1190 2918  Q 1190 2086 1267 1203  Q 1606 2029 1894 2938  Q 2202 3917 2202 4243  Q 2202 4333 2176 4365  z \" transform=\"scale(0.015625)\"/>\n",
       "      <path id=\"MarkerFelt-Thin-69\" d=\"M 1114 4800  Q 1133 4781 1133 4736  Q 1133 4678 1094 4538  Q 1050 4365 1037 4301  Q 1024 4237 1050 4019  Q 1050 3885 970 3843  Q 890 3802 768 3802  Q 595 3802 416 3872  Q 198 3962 198 4109  Q 198 4154 236 4234  Q 275 4314 282 4365  Q 294 4416 282 4621  Q 269 4781 346 4838  Q 448 4915 710 4915  Q 998 4915 1114 4800  z M 1197 3238  Q 1197 3149 1097 2960  Q 998 2771 998 2650  L 998 768  Q 998 640 1068 406  Q 1139 173 1139 83  Q 1139 -45 1037 -109  Q 877 -211 691 -211  Q 448 -211 346 -45  Q 211 160 211 1178  Q 211 1421 220 1936  Q 230 2451 230 2688  Q 230 2778 211 2922  Q 192 3066 192 3130  Q 192 3341 346 3494  Q 410 3558 582 3558  Q 755 3558 928 3504  Q 1101 3450 1149 3379  Q 1197 3309 1197 3238  z \" transform=\"scale(0.015625)\"/>\n",
       "      <path id=\"MarkerFelt-Thin-73\" d=\"M 2266 858  Q 2266 410 1946 93  Q 1626 -224 1190 -224  Q 915 -224 621 38  Q 390 250 205 557  Q 45 826 64 896  Q 134 1056 506 1056  Q 659 1056 749 1011  Q 902 928 922 800  Q 941 653 986 614  Q 1120 410 1229 410  Q 1312 410 1385 522  Q 1459 634 1459 787  Q 1459 883 1427 979  Q 1395 1075 1082 1274  Q 704 1510 544 1690  Q 269 1997 269 2406  Q 269 2886 550 3248  Q 832 3610 1267 3610  Q 1715 3610 1952 3270  Q 2144 2995 2112 2714  Q 2182 2637 2182 2458  Q 2182 2266 2041 2131  Q 1901 1997 1754 1997  Q 1536 1997 1376 2285  Q 1331 2362 1331 2490  Q 1331 2547 1340 2652  Q 1350 2758 1350 2803  Q 1350 2970 1229 2970  Q 1043 2970 1043 2605  Q 1043 2234 1286 2010  Q 1382 1920 1702 1754  Q 1978 1613 2093 1466  Q 2266 1242 2266 858  z \" transform=\"scale(0.015625)\"/>\n",
       "      <path id=\"MarkerFelt-Thin-63\" d=\"M 2362 1062  Q 2355 922 2240 774  Q 2061 563 2010 454  Q 1606 -160 1178 -160  Q 672 -160 390 352  Q 141 819 141 1530  Q 141 2342 448 2944  Q 787 3610 1325 3610  Q 1747 3610 2010 3142  Q 2227 2746 2227 2278  Q 2227 2150 2208 2054  Q 2163 1837 1843 1837  Q 1594 1837 1459 1978  Q 1395 2048 1395 2304  Q 1395 2368 1402 2490  Q 1402 2618 1402 2675  Q 1402 2963 1299 2963  Q 1190 2963 1068 2332  Q 947 1702 947 1152  Q 947 512 1139 512  Q 1389 512 1510 915  Q 1562 973 1568 1146  Q 1568 1299 1645 1347  Q 1722 1395 1869 1395  Q 2061 1395 2202 1312  Q 2368 1216 2362 1062  z \" transform=\"scale(0.015625)\"/>\n",
       "      <path id=\"MarkerFelt-Thin-6f\" d=\"M 2112 3302  Q 2541 2867 2541 1837  Q 2541 1037 2240 474  Q 1901 -160 1306 -160  Q 717 -160 397 410  Q 115 909 115 1677  Q 115 2355 333 2893  Q 563 3469 922 3571  Q 1107 3622 1306 3622  Q 1798 3622 2112 3302  z M 1382 2995  Q 1171 3014 1018 2598  Q 883 2221 883 1805  Q 883 1203 934 954  Q 1024 506 1306 461  Q 1485 435 1638 954  Q 1786 1453 1786 2022  Q 1786 2957 1382 2995  z \" transform=\"scale(0.015625)\"/>\n",
       "      <path id=\"MarkerFelt-Thin-76\" d=\"M 2918 3456  Q 2963 3373 2963 3283  Q 2963 3155 2854 2963  Q 2701 2707 2675 2637  Q 2394 1830 1952 602  Q 1869 179 1741 0  Q 1581 -243 1267 -224  Q 966 -205 864 -102  Q 787 -26 787 134  Q 787 160 787 205  Q 787 250 787 269  Q 787 384 768 461  L 115 2803  Q 96 2880 -51 3053  Q -173 3187 -147 3302  Q -83 3584 307 3584  Q 390 3584 461 3571  Q 710 3520 954 2694  Q 1152 1920 1357 1152  L 2022 3200  Q 2074 3354 2106 3411  Q 2163 3514 2268 3571  Q 2374 3629 2528 3629  Q 2822 3629 2918 3456  z \" transform=\"scale(0.015625)\"/>\n",
       "      <path id=\"MarkerFelt-Thin-65\" d=\"M 2496 672  Q 2445 429 2150 154  Q 2106 83 1798 -32  Q 1446 -166 1190 -147  Q 710 -115 435 403  Q 186 883 186 1581  Q 186 2336 467 2906  Q 781 3533 1306 3610  Q 1408 3622 1504 3622  Q 2266 3622 2342 2688  Q 2381 2259 2003 1754  Q 1594 1197 954 973  Q 1024 717 1062 640  Q 1152 480 1306 480  Q 1453 480 1619 595  Q 1760 691 1811 781  Q 1837 794 1862 925  Q 1888 1056 1997 1114  Q 2035 1133 2086 1133  Q 2240 1133 2384 982  Q 2528 832 2496 672  z M 1491 2925  Q 1235 2925 1075 2560  Q 864 2074 902 1600  Q 1203 1696 1459 2048  Q 1715 2400 1715 2675  Q 1715 2925 1491 2925  z \" transform=\"scale(0.015625)\"/>\n",
       "      <path id=\"MarkerFelt-Thin-72\" d=\"M 2611 3264  Q 2586 3130 2368 3078  Q 2112 3014 2042 2931  L 998 1728  L 998 755  Q 998 614 1078 470  Q 1158 326 1158 250  Q 1158 173 1114 77  Q 1005 -166 672 -166  Q 442 -166 307 -19  Q 218 77 218 224  Q 218 275 230 390  Q 243 506 243 576  L 243 2970  Q 243 3027 192 3110  Q 141 3194 141 3245  Q 141 3283 166 3334  Q 250 3488 685 3488  Q 1024 3488 1069 3328  Q 1088 3264 1088 3219  Q 1088 3149 1037 3110  Q 986 3072 986 3034  L 998 2803  L 1549 3386  Q 1645 3494 1750 3603  Q 1856 3712 1997 3725  Q 2214 3744 2416 3629  Q 2618 3514 2618 3328  Q 2618 3296 2611 3264  z \" transform=\"scale(0.015625)\"/>\n",
       "      <path id=\"MarkerFelt-Thin-79\" d=\"M 2995 3187  Q 3014 3059 2931 2912  Q 2784 2669 2778 2650  Q 2509 2010 1946 589  Q 1690 -90 1626 -634  Q 1613 -685 1619 -858  Q 1626 -998 1574 -1069  Q 1472 -1203 1267 -1203  Q 902 -1203 794 -928  Q 768 -858 768 -806  Q 768 -742 819 -662  Q 870 -582 883 -531  L 1037 269  L 115 2918  Q 96 2970 13 3130  Q -45 3245 -45 3328  Q -45 3373 -32 3418  Q 32 3648 403 3648  Q 634 3648 768 3571  Q 928 3475 954 3232  Q 986 2835 998 2790  L 1421 1459  L 2074 3110  Q 2080 3130 2131 3392  Q 2163 3552 2266 3610  Q 2330 3648 2413 3648  Q 2598 3648 2784 3510  Q 2970 3373 2995 3187  z \" transform=\"scale(0.015625)\"/>\n",
       "      <path id=\"MarkerFelt-Thin-20\" transform=\"scale(0.015625)\"/>\n",
       "      <path id=\"MarkerFelt-Thin-43\" d=\"M 2688 1350  Q 2080 -166 1472 -173  Q 736 -179 397 589  Q 134 1178 128 2131  Q 122 3206 410 4090  Q 742 5120 1312 5184  Q 1395 5190 1472 5190  Q 2003 5190 2291 4717  Q 2502 4358 2650 3578  Q 2758 3264 2758 3194  Q 2758 2982 2496 2867  Q 2438 2842 2362 2842  Q 2176 2842 1952 2963  Q 1690 3104 1690 3270  Q 1690 3296 1779 3520  Q 1766 3802 1676 4054  Q 1587 4307 1472 4333  Q 1293 4378 1158 3622  Q 1043 2995 1018 2240  Q 998 1670 1082 1184  Q 1178 627 1370 589  Q 1485 570 1645 877  Q 1798 1158 1901 1542  Q 1888 1606 1888 1664  Q 1888 2042 2349 2042  Q 2451 2042 2554 2022  Q 2867 1958 2867 1709  Q 2867 1504 2688 1350  z \" transform=\"scale(0.015625)\"/>\n",
       "      <path id=\"MarkerFelt-Thin-49\" d=\"M 1370 51  Q 1312 -109 1037 -109  Q 960 -109 870 -96  Q 346 -13 256 218  Q 237 262 237 307  Q 237 442 384 576  Q 358 1536 269 4493  Q 275 4576 224 4688  Q 173 4800 173 4851  Q 173 4966 320 5094  Q 422 5184 608 5184  Q 819 5184 1056 5075  Q 1338 4941 1338 4749  Q 1338 4704 1203 4403  L 1267 525  Q 1267 448 1324 329  Q 1382 211 1382 141  Q 1382 96 1370 51  z \" transform=\"scale(0.015625)\"/>\n",
       "      <path id=\"MarkerFelt-Thin-53\" d=\"M 3021 1062  Q 3021 563 2704 188  Q 2387 -186 1920 -186  Q 979 -186 538 710  Q 58 1024 58 1242  Q 58 1350 192 1421  Q 454 1562 672 1562  Q 1146 1562 1306 998  Q 1382 845 1465 691  Q 1549 538 1690 538  Q 2067 538 2067 1075  Q 2067 1555 1894 1722  Q 1818 1792 1280 2016  Q 851 2195 589 2630  Q 352 3027 346 3456  Q 339 4147 691 4685  Q 1062 5261 1613 5261  Q 2253 5261 2547 4749  Q 2739 4429 2765 3955  Q 2835 3712 2835 3514  Q 2835 3386 2803 3302  Q 2707 3066 2426 3066  Q 2214 3066 2042 3219  Q 1850 3386 1805 3686  Q 1786 3789 1846 3891  Q 1907 3994 1907 4006  Q 1907 4019 1894 4032  Q 1901 4064 1901 4096  Q 1901 4288 1677 4275  Q 1459 4262 1338 3987  Q 1229 3750 1242 3443  Q 1261 2899 1958 2573  Q 2509 2317 2720 2067  Q 3021 1709 3021 1062  z \" transform=\"scale(0.015625)\"/>\n",
       "      <path id=\"MarkerFelt-Thin-6e\" d=\"M 3072 410  Q 3059 269 2886 169  Q 2714 70 2502 70  Q 2189 70 2074 269  Q 2125 2240 1958 2266  Q 1798 2291 1178 499  Q 1178 307 1178 115  Q 1171 -115 1052 -211  Q 934 -307 800 -307  Q 570 -307 307 -58  Q 230 6 224 915  Q 230 358 230 2982  Q 230 3040 217 3139  Q 205 3238 205 3283  Q 205 3405 269 3494  Q 346 3610 512 3610  Q 685 3610 873 3504  Q 1062 3398 1101 3302  Q 1126 3238 1126 3174  Q 1126 3110 1075 2995  Q 1024 2880 1024 2803  L 1024 1920  Q 1427 2778 1632 3053  Q 1997 3526 2458 3494  Q 2733 3475 2848 2982  Q 2938 2611 2944 1882  Q 2944 1306 2944 730  Q 2957 685 3034 570  Q 3078 506 3072 410  z \" transform=\"scale(0.015625)\"/>\n",
       "      <path id=\"MarkerFelt-Thin-74\" d=\"M 2202 2906  Q 2150 2906 2041 2947  Q 1933 2989 1875 2989  Q 1830 2989 1786 2970  L 1549 2848  L 1549 659  Q 1549 538 1680 346  Q 1811 154 1786 38  Q 1754 -102 1597 -185  Q 1440 -269 1261 -269  Q 922 -269 794 32  Q 755 122 749 602  Q 742 922 755 1600  Q 768 2368 768 2573  Q 730 2560 640 2486  Q 550 2413 461 2413  Q 390 2413 282 2451  Q -166 2605 -166 2765  Q -166 2803 -147 2848  Q -102 2950 19 2963  Q 205 2989 243 3008  Q 390 3066 781 3283  L 781 3840  Q 781 3904 745 4009  Q 710 4115 710 4166  Q 710 4224 742 4275  Q 909 4531 1190 4531  Q 1517 4531 1651 4275  Q 1702 4173 1702 4109  Q 1702 4032 1625 3949  Q 1549 3866 1549 3795  L 1549 3482  Q 1664 3533 1805 3654  Q 1914 3744 1990 3744  Q 2022 3744 2061 3731  Q 2464 3622 2464 3245  Q 2464 3123 2390 3014  Q 2317 2906 2202 2906  z \" transform=\"scale(0.015625)\"/>\n",
       "      <path id=\"MarkerFelt-Thin-61\" d=\"M 2854 269  Q 2758 -45 2381 -45  Q 2253 -45 2176 0  Q 2074 70 2035 282  Q 1958 646 1882 851  Q 1862 499 1497 137  Q 1133 -224 762 -224  Q 294 -224 115 397  Q 51 627 51 832  Q 51 1427 659 1850  Q 1158 2144 1664 2432  Q 1690 2541 1690 2643  Q 1690 2842 1581 2877  Q 1472 2912 1395 2912  Q 1261 2912 1174 2825  Q 1088 2739 1011 2662  Q 934 2611 813 2426  Q 717 2278 602 2266  Q 435 2246 300 2380  Q 166 2515 166 2694  Q 166 2797 218 2880  Q 365 3123 659 3302  Q 1107 3571 1779 3571  Q 2208 3571 2368 3162  Q 2470 2886 2522 2131  Q 2579 1216 2662 794  Q 2675 710 2771 582  Q 2867 454 2867 358  Q 2867 314 2854 269  z M 1741 1843  Q 1549 1741 1360 1632  Q 1171 1523 1011 1344  Q 781 1082 781 896  Q 781 742 896 576  Q 960 486 1037 486  Q 1203 486 1398 857  Q 1594 1229 1741 1843  z \" transform=\"scale(0.015625)\"/>\n",
       "     </defs>\n",
       "     <use xlink:href=\"#MarkerFelt-Thin-44\"/>\n",
       "     <use xlink:href=\"#MarkerFelt-Thin-69\" x=\"52.499985\"/>\n",
       "     <use xlink:href=\"#MarkerFelt-Thin-73\" x=\"75.874969\"/>\n",
       "     <use xlink:href=\"#MarkerFelt-Thin-63\" x=\"117.124954\"/>\n",
       "     <use xlink:href=\"#MarkerFelt-Thin-6f\" x=\"159.874939\"/>\n",
       "     <use xlink:href=\"#MarkerFelt-Thin-76\" x=\"205.874924\"/>\n",
       "     <use xlink:href=\"#MarkerFelt-Thin-65\" x=\"251.999908\"/>\n",
       "     <use xlink:href=\"#MarkerFelt-Thin-72\" x=\"295.999893\"/>\n",
       "     <use xlink:href=\"#MarkerFelt-Thin-79\" x=\"342.374878\"/>\n",
       "     <use xlink:href=\"#MarkerFelt-Thin-20\" x=\"389.374863\"/>\n",
       "     <use xlink:href=\"#MarkerFelt-Thin-43\" x=\"414.374847\"/>\n",
       "     <use xlink:href=\"#MarkerFelt-Thin-49\" x=\"461.999832\"/>\n",
       "     <use xlink:href=\"#MarkerFelt-Thin-53\" x=\"488.749817\"/>\n",
       "     <use xlink:href=\"#MarkerFelt-Thin-20\" x=\"537.749802\"/>\n",
       "     <use xlink:href=\"#MarkerFelt-Thin-49\" x=\"562.749786\"/>\n",
       "     <use xlink:href=\"#MarkerFelt-Thin-6e\" x=\"589.999771\"/>\n",
       "     <use xlink:href=\"#MarkerFelt-Thin-73\" x=\"642.999756\"/>\n",
       "     <use xlink:href=\"#MarkerFelt-Thin-74\" x=\"686.374741\"/>\n",
       "     <use xlink:href=\"#MarkerFelt-Thin-61\" x=\"727.624725\"/>\n",
       "     <use xlink:href=\"#MarkerFelt-Thin-6e\" x=\"777.49971\"/>\n",
       "     <use xlink:href=\"#MarkerFelt-Thin-63\" x=\"829.874695\"/>\n",
       "     <use xlink:href=\"#MarkerFelt-Thin-65\" x=\"871.49968\"/>\n",
       "    </g>\n",
       "   </g>\n",
       "  </g>\n",
       " </g>\n",
       "</svg>"
      ],
      "text/plain": [
       "<IPython.core.display.SVG object>"
      ]
     },
     "execution_count": 4,
     "metadata": {},
     "output_type": "execute_result"
    }
   ],
   "source": [
    "# look at the image and adjust as needed before adding to servicenow instance\n",
    "SVG(filename=logo_file_path)"
   ]
  }
 ],
 "metadata": {
  "kernelspec": {
   "display_name": "Python 3",
   "language": "python",
   "name": "python3"
  },
  "language_info": {
   "codemirror_mode": {
    "name": "ipython",
    "version": 3
   },
   "file_extension": ".py",
   "mimetype": "text/x-python",
   "name": "python",
   "nbconvert_exporter": "python",
   "pygments_lexer": "ipython3",
   "version": "3.11.1"
  },
  "orig_nbformat": 4
 },
 "nbformat": 4,
 "nbformat_minor": 2
}
